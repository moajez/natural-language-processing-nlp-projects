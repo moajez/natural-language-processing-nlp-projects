{
  "cells": [
    {
      "cell_type": "markdown",
      "metadata": {
        "id": "view-in-github",
        "colab_type": "text"
      },
      "source": [
        "<a href=\"https://colab.research.google.com/github/moajez/natural-language-processing-nlp-projects/blob/main/Neural_Machine_Translation_with_Transformers_by_Neuralearn_ai_.ipynb\" target=\"_parent\"><img src=\"https://colab.research.google.com/assets/colab-badge.svg\" alt=\"Open In Colab\"/></a>"
      ]
    },
    {
      "cell_type": "code",
      "execution_count": null,
      "metadata": {
        "id": "5eMMJssyxQ-J"
      },
      "outputs": [],
      "source": [
        "#!pip install --upgrade tensorflow"
      ]
    },
    {
      "cell_type": "code",
      "execution_count": null,
      "metadata": {
        "id": "C24JKO7LxP3O"
      },
      "outputs": [],
      "source": [
        "import tensorflow as tf### models\n",
        "import numpy as np### math computations\n",
        "import matplotlib.pyplot as plt### plotting bar chart\n",
        "import sklearn### machine learning library\n",
        "import cv2## image processing\n",
        "from sklearn.metrics import confusion_matrix, roc_curve### metrics\n",
        "import seaborn as sns### visualizations\n",
        "import datetime\n",
        "import pathlib\n",
        "import io\n",
        "import os\n",
        "import re\n",
        "import string\n",
        "import time\n",
        "from numpy import random\n",
        "import tensorflow_datasets as tfds\n",
        "import tensorflow_probability as tfp\n",
        "from tensorflow.keras.models import Model\n",
        "from tensorflow.keras.layers import Layer\n",
        "from tensorflow.keras.layers import (Dense,Flatten,SimpleRNN,InputLayer,Conv1D,LayerNormalization,Bidirectional,GRU,LSTM,BatchNormalization,Dropout,Input,MultiHeadAttention,Embedding,TextVectorization)\n",
        "from tensorflow.keras.losses import BinaryCrossentropy,CategoricalCrossentropy, SparseCategoricalCrossentropy\n",
        "from tensorflow.keras.metrics import Accuracy,TopKCategoricalAccuracy, CategoricalAccuracy, SparseCategoricalAccuracy\n",
        "from tensorflow.keras.optimizers import Adam\n",
        "from tensorflow.keras.optimizers.schedules import LearningRateSchedule\n",
        "from google.colab import drive\n",
        "from google.colab import files\n",
        "from tensorboard.plugins import projector"
      ]
    },
    {
      "cell_type": "code",
      "execution_count": null,
      "metadata": {
        "colab": {
          "base_uri": "https://localhost:8080/",
          "height": 35
        },
        "id": "LdwxalEeyUX5",
        "outputId": "5015fd6d-7b61-4382-af4f-36d2242cb854"
      },
      "outputs": [
        {
          "output_type": "execute_result",
          "data": {
            "text/plain": [
              "'2.15.0'"
            ],
            "application/vnd.google.colaboratory.intrinsic+json": {
              "type": "string"
            }
          },
          "metadata": {},
          "execution_count": 3
        }
      ],
      "source": [
        "tf.__version__"
      ]
    },
    {
      "cell_type": "markdown",
      "metadata": {
        "id": "cKg0HdsrYA0S"
      },
      "source": [
        "# Data Preparation"
      ]
    },
    {
      "cell_type": "markdown",
      "metadata": {
        "id": "WgU1Z8fcOSW_"
      },
      "source": [
        "## Data Download"
      ]
    },
    {
      "cell_type": "code",
      "execution_count": null,
      "metadata": {
        "colab": {
          "base_uri": "https://localhost:8080/"
        },
        "id": "4hwhov2uvDdo",
        "outputId": "294898a5-bc92-46af-9429-16f884beec40"
      },
      "outputs": [
        {
          "output_type": "stream",
          "name": "stdout",
          "text": [
            "--2024-01-27 15:12:23--  https://www.manythings.org/anki/fra-eng.zip\n",
            "Resolving www.manythings.org (www.manythings.org)... 173.254.30.110\n",
            "Connecting to www.manythings.org (www.manythings.org)|173.254.30.110|:443... connected.\n",
            "HTTP request sent, awaiting response... 200 OK\n",
            "Length: 7833145 (7.5M) [application/zip]\n",
            "Saving to: ‘fra-eng.zip’\n",
            "\n",
            "fra-eng.zip         100%[===================>]   7.47M  20.7MB/s    in 0.4s    \n",
            "\n",
            "2024-01-27 15:12:23 (20.7 MB/s) - ‘fra-eng.zip’ saved [7833145/7833145]\n",
            "\n"
          ]
        }
      ],
      "source": [
        "!wget https://www.manythings.org/anki/fra-eng.zip"
      ]
    },
    {
      "cell_type": "code",
      "execution_count": null,
      "metadata": {
        "colab": {
          "base_uri": "https://localhost:8080/"
        },
        "id": "Y-ufBPwn8_ax",
        "outputId": "e6933b07-8b35-440b-911a-29f1fc31e2fc"
      },
      "outputs": [
        {
          "output_type": "stream",
          "name": "stdout",
          "text": [
            "Archive:  /content/fra-eng.zip\n",
            "  inflating: /content/dataset/_about.txt  \n",
            "  inflating: /content/dataset/fra.txt  \n"
          ]
        }
      ],
      "source": [
        "!unzip \"/content/fra-eng.zip\" -d \"/content/dataset/\""
      ]
    },
    {
      "cell_type": "markdown",
      "metadata": {
        "id": "omyb2Dq_YHbT"
      },
      "source": [
        "## Data Processing"
      ]
    },
    {
      "cell_type": "code",
      "execution_count": null,
      "metadata": {
        "id": "ywC7WnoIJeXl"
      },
      "outputs": [],
      "source": [
        "text_dataset=tf.data.TextLineDataset(\"/content/dataset/fra.txt\")"
      ]
    },
    {
      "cell_type": "code",
      "execution_count": null,
      "metadata": {
        "id": "QlcJxz6cJeb_"
      },
      "outputs": [],
      "source": [
        "VOCAB_SIZE=20000\n",
        "ENGLISH_SEQUENCE_LENGTH=32\n",
        "FRENCH_SEQUENCE_LENGTH=32\n",
        "EMBEDDING_DIM=256\n",
        "BATCH_SIZE=128"
      ]
    },
    {
      "cell_type": "code",
      "execution_count": null,
      "metadata": {
        "id": "TePer9o-JeeR"
      },
      "outputs": [],
      "source": [
        "english_vectorize_layer=TextVectorization(\n",
        "    standardize='lower_and_strip_punctuation',\n",
        "    max_tokens=VOCAB_SIZE,\n",
        "    output_mode='int',\n",
        "    output_sequence_length=ENGLISH_SEQUENCE_LENGTH\n",
        ")"
      ]
    },
    {
      "cell_type": "code",
      "execution_count": null,
      "metadata": {
        "id": "unGn0zqEJegg"
      },
      "outputs": [],
      "source": [
        "french_vectorize_layer=TextVectorization(\n",
        "    standardize='lower_and_strip_punctuation',\n",
        "    max_tokens=VOCAB_SIZE,\n",
        "    output_mode='int',\n",
        "    output_sequence_length=FRENCH_SEQUENCE_LENGTH\n",
        ")"
      ]
    },
    {
      "cell_type": "code",
      "execution_count": null,
      "metadata": {
        "id": "iNK3uewuQTjY"
      },
      "outputs": [],
      "source": [
        "def selector(input_text):\n",
        "  split_text=tf.strings.split(input_text,'\\t')\n",
        "  return {'input_1':split_text[0:1],'input_2':'starttoken '+split_text[1:2]},split_text[1:2]+' endtoken'"
      ]
    },
    {
      "cell_type": "code",
      "execution_count": null,
      "metadata": {
        "id": "YZDH8xn7Q12e"
      },
      "outputs": [],
      "source": [
        "split_dataset=text_dataset.map(selector)"
      ]
    },
    {
      "cell_type": "code",
      "execution_count": null,
      "metadata": {
        "id": "7fcSDED_2c-z"
      },
      "outputs": [],
      "source": [
        "def separator(input_text):\n",
        "  split_text=tf.strings.split(input_text,'\\t')\n",
        "  return split_text[0:1],'starttoken '+split_text[1:2]+' endtoken'"
      ]
    },
    {
      "cell_type": "code",
      "execution_count": null,
      "metadata": {
        "id": "ktN95hiN2pgU"
      },
      "outputs": [],
      "source": [
        "init_dataset=text_dataset.map(separator)"
      ]
    },
    {
      "cell_type": "code",
      "execution_count": null,
      "metadata": {
        "colab": {
          "base_uri": "https://localhost:8080/"
        },
        "id": "OQkSkpd1tils",
        "outputId": "37fe07de-4f12-49cf-f4ef-39a91027cba2"
      },
      "outputs": [
        {
          "output_type": "stream",
          "name": "stdout",
          "text": [
            "({'input_1': <tf.Tensor: shape=(1,), dtype=string, numpy=array([b'Go.'], dtype=object)>, 'input_2': <tf.Tensor: shape=(1,), dtype=string, numpy=array([b'starttoken Va !'], dtype=object)>}, <tf.Tensor: shape=(1,), dtype=string, numpy=array([b'Va ! endtoken'], dtype=object)>)\n",
            "({'input_1': <tf.Tensor: shape=(1,), dtype=string, numpy=array([b'Go.'], dtype=object)>, 'input_2': <tf.Tensor: shape=(1,), dtype=string, numpy=array([b'starttoken Marche.'], dtype=object)>}, <tf.Tensor: shape=(1,), dtype=string, numpy=array([b'Marche. endtoken'], dtype=object)>)\n",
            "({'input_1': <tf.Tensor: shape=(1,), dtype=string, numpy=array([b'Go.'], dtype=object)>, 'input_2': <tf.Tensor: shape=(1,), dtype=string, numpy=array([b'starttoken En route !'], dtype=object)>}, <tf.Tensor: shape=(1,), dtype=string, numpy=array([b'En route ! endtoken'], dtype=object)>)\n"
          ]
        }
      ],
      "source": [
        "for i in split_dataset.take(3):\n",
        "  print(i)"
      ]
    },
    {
      "cell_type": "code",
      "execution_count": null,
      "metadata": {
        "id": "_usEDYiOJeil"
      },
      "outputs": [],
      "source": [
        "english_training_data=init_dataset.map(lambda x,y:x)### input x,y and output x\n",
        "english_vectorize_layer.adapt(english_training_data)#### adapt the vectorize_layer to the training data"
      ]
    },
    {
      "cell_type": "code",
      "execution_count": null,
      "metadata": {
        "id": "dl7pxJprJek2"
      },
      "outputs": [],
      "source": [
        "french_training_data=init_dataset.map(lambda x,y:y)### input x,y and output y\n",
        "french_vectorize_layer.adapt(french_training_data)#### adapt the vectorize_layer to the training data"
      ]
    },
    {
      "cell_type": "code",
      "execution_count": null,
      "metadata": {
        "id": "4yVIMxvTJemt"
      },
      "outputs": [],
      "source": [
        "def vectorizer(inputs,output):\n",
        "  return {'input_1':english_vectorize_layer(inputs['input_1']),\n",
        "          'input_2':french_vectorize_layer(inputs['input_2'])},french_vectorize_layer(output)"
      ]
    },
    {
      "cell_type": "code",
      "execution_count": null,
      "metadata": {
        "colab": {
          "base_uri": "https://localhost:8080/"
        },
        "id": "op5UqhS14HHz",
        "outputId": "783b1769-e0c6-46e9-e6a6-7e85745ec2b1"
      },
      "outputs": [
        {
          "data": {
            "text/plain": [
              "<_MapDataset element_spec=({'input_1': TensorSpec(shape=(None,), dtype=tf.string, name=None), 'input_2': TensorSpec(shape=(None,), dtype=tf.string, name=None)}, TensorSpec(shape=(None,), dtype=tf.string, name=None))>"
            ]
          },
          "execution_count": 18,
          "metadata": {},
          "output_type": "execute_result"
        }
      ],
      "source": [
        "split_dataset"
      ]
    },
    {
      "cell_type": "code",
      "execution_count": null,
      "metadata": {
        "id": "wI9-GPpVJepF"
      },
      "outputs": [],
      "source": [
        "dataset=split_dataset.map(vectorizer)"
      ]
    },
    {
      "cell_type": "code",
      "execution_count": null,
      "metadata": {
        "colab": {
          "base_uri": "https://localhost:8080/"
        },
        "id": "m_6Xtks8wPk5",
        "outputId": "c2ad6e12-bb79-445b-8442-788331bcdc9f"
      },
      "outputs": [
        {
          "output_type": "stream",
          "name": "stdout",
          "text": [
            "({'input_1': <tf.Tensor: shape=(1,), dtype=string, numpy=array([b'Go.'], dtype=object)>, 'input_2': <tf.Tensor: shape=(1,), dtype=string, numpy=array([b'starttoken Va !'], dtype=object)>}, <tf.Tensor: shape=(1,), dtype=string, numpy=array([b'Va ! endtoken'], dtype=object)>)\n",
            "({'input_1': <tf.Tensor: shape=(1,), dtype=string, numpy=array([b'Go.'], dtype=object)>, 'input_2': <tf.Tensor: shape=(1,), dtype=string, numpy=array([b'starttoken Marche.'], dtype=object)>}, <tf.Tensor: shape=(1,), dtype=string, numpy=array([b'Marche. endtoken'], dtype=object)>)\n",
            "({'input_1': <tf.Tensor: shape=(1,), dtype=string, numpy=array([b'Go.'], dtype=object)>, 'input_2': <tf.Tensor: shape=(1,), dtype=string, numpy=array([b'starttoken En route !'], dtype=object)>}, <tf.Tensor: shape=(1,), dtype=string, numpy=array([b'En route ! endtoken'], dtype=object)>)\n"
          ]
        }
      ],
      "source": [
        "for i in split_dataset.take(3):\n",
        "  print(i)"
      ]
    },
    {
      "cell_type": "code",
      "execution_count": null,
      "metadata": {
        "colab": {
          "base_uri": "https://localhost:8080/"
        },
        "id": "FM9aenklufpC",
        "outputId": "5f663293-95e8-43b9-c6a9-2e79b8a6dcca"
      },
      "outputs": [
        {
          "output_type": "stream",
          "name": "stdout",
          "text": [
            "({'input_1': <tf.Tensor: shape=(1, 32), dtype=int64, numpy=\n",
            "array([[44,  0,  0,  0,  0,  0,  0,  0,  0,  0,  0,  0,  0,  0,  0,  0,\n",
            "         0,  0,  0,  0,  0,  0,  0,  0,  0,  0,  0,  0,  0,  0,  0,  0]])>, 'input_2': <tf.Tensor: shape=(1, 32), dtype=int64, numpy=\n",
            "array([[  2, 103,   0,   0,   0,   0,   0,   0,   0,   0,   0,   0,   0,\n",
            "          0,   0,   0,   0,   0,   0,   0,   0,   0,   0,   0,   0,   0,\n",
            "          0,   0,   0,   0,   0,   0]])>}, <tf.Tensor: shape=(1, 32), dtype=int64, numpy=\n",
            "array([[103,   3,   0,   0,   0,   0,   0,   0,   0,   0,   0,   0,   0,\n",
            "          0,   0,   0,   0,   0,   0,   0,   0,   0,   0,   0,   0,   0,\n",
            "          0,   0,   0,   0,   0,   0]])>)\n"
          ]
        }
      ],
      "source": [
        "for i in dataset.take(1):\n",
        "  print(i)"
      ]
    },
    {
      "cell_type": "code",
      "execution_count": null,
      "metadata": {
        "colab": {
          "base_uri": "https://localhost:8080/"
        },
        "id": "iOpSsko7TiKd",
        "outputId": "bc570b77-a09e-4e76-97d9-1bfc66ac1326"
      },
      "outputs": [
        {
          "output_type": "execute_result",
          "data": {
            "text/plain": [
              "<_MapDataset element_spec=({'input_1': TensorSpec(shape=(None, 32), dtype=tf.int64, name=None), 'input_2': TensorSpec(shape=(None, 32), dtype=tf.int64, name=None)}, TensorSpec(shape=(None, 32), dtype=tf.int64, name=None))>"
            ]
          },
          "metadata": {},
          "execution_count": 22
        }
      ],
      "source": [
        "dataset"
      ]
    },
    {
      "cell_type": "code",
      "execution_count": null,
      "metadata": {
        "id": "_WE0s6p9TiM9"
      },
      "outputs": [],
      "source": [
        "dataset=dataset.shuffle(2048).unbatch().batch(BATCH_SIZE).prefetch(buffer_size=tf.data.AUTOTUNE)"
      ]
    },
    {
      "cell_type": "code",
      "execution_count": null,
      "metadata": {
        "colab": {
          "base_uri": "https://localhost:8080/"
        },
        "id": "tTkF_Qu54QB5",
        "outputId": "2ec40619-3ee2-4453-8b36-6ab5322db3d7"
      },
      "outputs": [
        {
          "data": {
            "text/plain": [
              "<_PrefetchDataset element_spec=({'input_1': TensorSpec(shape=(None, 32), dtype=tf.int64, name=None), 'input_2': TensorSpec(shape=(None, 32), dtype=tf.int64, name=None)}, TensorSpec(shape=(None, 32), dtype=tf.int64, name=None))>"
            ]
          },
          "execution_count": 24,
          "metadata": {},
          "output_type": "execute_result"
        }
      ],
      "source": [
        "dataset"
      ]
    },
    {
      "cell_type": "code",
      "execution_count": null,
      "metadata": {
        "id": "K5JXDdrNtwRj"
      },
      "outputs": [],
      "source": [
        "NUM_BATCHES=int(200000/BATCH_SIZE)"
      ]
    },
    {
      "cell_type": "code",
      "execution_count": null,
      "metadata": {
        "id": "XQvg18V5TiO7"
      },
      "outputs": [],
      "source": [
        "train_dataset=dataset.take(int(0.9*NUM_BATCHES))\n",
        "val_dataset=dataset.skip(int(0.9*NUM_BATCHES))"
      ]
    },
    {
      "cell_type": "code",
      "execution_count": null,
      "metadata": {
        "colab": {
          "base_uri": "https://localhost:8080/"
        },
        "id": "tfCmn1DzTiRp",
        "outputId": "6ba490e8-ecd9-4db4-80fe-bdd5928181e7"
      },
      "outputs": [
        {
          "data": {
            "text/plain": [
              "<_TakeDataset element_spec=({'input_1': TensorSpec(shape=(None, 32), dtype=tf.int64, name=None), 'input_2': TensorSpec(shape=(None, 32), dtype=tf.int64, name=None)}, TensorSpec(shape=(None, 32), dtype=tf.int64, name=None))>"
            ]
          },
          "execution_count": 27,
          "metadata": {},
          "output_type": "execute_result"
        }
      ],
      "source": [
        "train_dataset"
      ]
    },
    {
      "cell_type": "code",
      "execution_count": null,
      "metadata": {
        "id": "Ku7L4gZJXgYY"
      },
      "outputs": [],
      "source": [
        "#score=tf.einsum('ijk,ibk->ijb',query,key)"
      ]
    },
    {
      "cell_type": "markdown",
      "metadata": {
        "id": "nBVM2EB0Xh97"
      },
      "source": [
        "# Modeling"
      ]
    },
    {
      "cell_type": "markdown",
      "metadata": {
        "id": "UXZLSM5pkS3w"
      },
      "source": [
        "## Embedding"
      ]
    },
    {
      "cell_type": "code",
      "execution_count": null,
      "metadata": {
        "id": "c1_5MCwq0ARk"
      },
      "outputs": [],
      "source": [
        "def positional_encoding(model_size,SEQUENCE_LENGTH):\n",
        "  output=[]\n",
        "  for pos in range(SEQUENCE_LENGTH):\n",
        "    PE=np.zeros((model_size))\n",
        "    for i in range(model_size):\n",
        "      if i%2==0:\n",
        "        PE[i]=np.sin(pos/(10000**(i/model_size)))\n",
        "      else:\n",
        "        PE[i]=np.cos(pos/(10000**((i-1)/model_size)))\n",
        "    output.append(tf.expand_dims(PE,axis=0))\n",
        "  out=tf.concat(output,axis=0)\n",
        "  out=tf.expand_dims(out,axis=0)\n",
        "  return tf.cast(out,dtype=tf.float32)"
      ]
    },
    {
      "cell_type": "code",
      "execution_count": null,
      "metadata": {
        "colab": {
          "base_uri": "https://localhost:8080/"
        },
        "id": "PD4gK6uLxY8B",
        "outputId": "bbd59e58-7749-4ba0-83c6-0385a76211c4"
      },
      "outputs": [
        {
          "output_type": "stream",
          "name": "stdout",
          "text": [
            "(1, 64, 256)\n"
          ]
        }
      ],
      "source": [
        "print(positional_encoding(256,64).shape)"
      ]
    },
    {
      "cell_type": "code",
      "execution_count": null,
      "metadata": {
        "id": "ZM8tUhJ9G0tH"
      },
      "outputs": [],
      "source": [
        "class Embeddings(Layer):\n",
        "  def __init__(self, sequence_length, vocab_size, embed_dim,):\n",
        "    super(Embeddings, self).__init__()\n",
        "    self.token_embeddings=Embedding(\n",
        "        input_dim=vocab_size, output_dim=embed_dim)\n",
        "    self.sequence_length = sequence_length\n",
        "    self.vocab_size = vocab_size\n",
        "    self.embed_dim = embed_dim\n",
        "\n",
        "  def call(self, inputs):\n",
        "    embedded_tokens = self.token_embeddings(inputs)\n",
        "    embedded_positions=positional_encoding(\n",
        "        self.embed_dim,self.sequence_length)\n",
        "    return embedded_tokens + embedded_positions\n",
        "\n",
        "  def compute_mask(self, inputs, mask=None):\n",
        "    return tf.math.not_equal(inputs, 0)"
      ]
    },
    {
      "cell_type": "code",
      "execution_count": null,
      "metadata": {
        "colab": {
          "base_uri": "https://localhost:8080/"
        },
        "id": "Sr0o-QcgD4xS",
        "outputId": "53b24182-8563-4740-8545-9ca6ece6f933"
      },
      "outputs": [
        {
          "output_type": "stream",
          "name": "stdout",
          "text": [
            "(1, 8, 512)\n"
          ]
        }
      ],
      "source": [
        "test_input=tf.constant([[2,4,7,21,3,5,0,0]])\n",
        "emb=Embeddings(8,20000,512)\n",
        "emb_out=emb(test_input)\n",
        "print(emb_out.shape)"
      ]
    },
    {
      "cell_type": "code",
      "execution_count": null,
      "metadata": {
        "colab": {
          "base_uri": "https://localhost:8080/"
        },
        "id": "zoZ59gSaom6P",
        "outputId": "e01e26c2-9d60-4ea5-ba5c-093e9cdb4bde"
      },
      "outputs": [
        {
          "output_type": "stream",
          "name": "stdout",
          "text": [
            "tf.Tensor([[ True  True  True  True  True  True False False]], shape=(1, 8), dtype=bool)\n",
            "tf.Tensor(\n",
            "[[1 1 1 1 1 1 0 0]\n",
            " [1 1 1 1 1 1 0 0]\n",
            " [1 1 1 1 1 1 0 0]\n",
            " [1 1 1 1 1 1 0 0]\n",
            " [1 1 1 1 1 1 0 0]\n",
            " [1 1 1 1 1 1 0 0]\n",
            " [1 1 1 1 1 1 0 0]\n",
            " [1 1 1 1 1 1 0 0]], shape=(8, 8), dtype=int32)\n"
          ]
        }
      ],
      "source": [
        "mask = emb.compute_mask(test_input)\n",
        "print(mask)\n",
        "\n",
        "\n",
        "padding_mask = tf.cast(\n",
        "    tf.repeat(mask,repeats=tf.shape(mask)[1],axis=0),\n",
        "    dtype=tf.int32)\n",
        "print(padding_mask)"
      ]
    },
    {
      "cell_type": "code",
      "source": [
        "print(tf.linalg.band_part(\n",
        "        tf.ones([1,8, 8],dtype=tf.int32),-1,0))"
      ],
      "metadata": {
        "id": "A7XLs1hLE8ON",
        "colab": {
          "base_uri": "https://localhost:8080/"
        },
        "outputId": "73145edf-34f2-438a-e2fe-1e9f1f0c6b52"
      },
      "execution_count": null,
      "outputs": [
        {
          "output_type": "stream",
          "name": "stdout",
          "text": [
            "tf.Tensor(\n",
            "[[[1 0 0 0 0 0 0 0]\n",
            "  [1 1 0 0 0 0 0 0]\n",
            "  [1 1 1 0 0 0 0 0]\n",
            "  [1 1 1 1 0 0 0 0]\n",
            "  [1 1 1 1 1 0 0 0]\n",
            "  [1 1 1 1 1 1 0 0]\n",
            "  [1 1 1 1 1 1 1 0]\n",
            "  [1 1 1 1 1 1 1 1]]], shape=(1, 8, 8), dtype=int32)\n"
          ]
        }
      ]
    },
    {
      "cell_type": "markdown",
      "metadata": {
        "id": "QaDKmgJgklY_"
      },
      "source": [
        "## Custom MultiHeadAttention"
      ]
    },
    {
      "cell_type": "code",
      "execution_count": null,
      "metadata": {
        "id": "AIRfhrVINS39"
      },
      "outputs": [],
      "source": [
        "class CustomSelfAttention(Layer):\n",
        "  def __init__(self,model_size):\n",
        "    super(CustomSelfAttention,self).__init__()\n",
        "    self.model_size=model_size\n",
        "  def call(self,query,key,value,masking):\n",
        "    ######## compute scores\n",
        "    score=tf.matmul(query,key,transpose_b=True)\n",
        "    ######## scaling\n",
        "    score/=tf.math.sqrt(tf.cast(self.model_size,tf.float32))\n",
        "    ######## masking\n",
        "    masking=tf.cast(masking,dtype=tf.float32)\n",
        "    score+=(1.-masking)*-1e10\n",
        "    ######## attention_weights\n",
        "    attention=tf.nn.softmax(score,axis=-1)*masking\n",
        "    ######## output\n",
        "    head=tf.matmul(attention,value)\n",
        "    return head"
      ]
    },
    {
      "cell_type": "code",
      "execution_count": null,
      "metadata": {
        "colab": {
          "base_uri": "https://localhost:8080/"
        },
        "id": "LSqZtns6YdHP",
        "outputId": "31d135ea-2f64-4747-e748-a05912d78530"
      },
      "outputs": [
        {
          "output_type": "execute_result",
          "data": {
            "text/plain": [
              "<tf.Tensor: shape=(1, 8, 256), dtype=float32, numpy=\n",
              "array([[[1., 1., 1., ..., 1., 1., 1.],\n",
              "        [1., 1., 1., ..., 1., 1., 1.],\n",
              "        [1., 1., 1., ..., 1., 1., 1.],\n",
              "        ...,\n",
              "        [1., 1., 1., ..., 1., 1., 1.],\n",
              "        [1., 1., 1., ..., 1., 1., 1.],\n",
              "        [1., 1., 1., ..., 1., 1., 1.]]], dtype=float32)>"
            ]
          },
          "metadata": {},
          "execution_count": 17
        }
      ],
      "source": [
        "attention=CustomSelfAttention(256)\n",
        "attention(tf.ones([1,8,256]),tf.ones([1,8,256]),tf.ones([1,8,256]),padding_mask)"
      ]
    },
    {
      "cell_type": "code",
      "execution_count": null,
      "metadata": {
        "id": "6Unruv2vNS6g"
      },
      "outputs": [],
      "source": [
        "class CustomMultiHeadAttention(Layer):\n",
        "  def __init__(self,num_heads,key_dim):\n",
        "    super(CustomMultiHeadAttention,self).__init__()\n",
        "\n",
        "    self.num_heads=num_heads\n",
        "    self.dense_q=[Dense(key_dim//num_heads) for _ in range(num_heads)]\n",
        "    self.dense_k=[Dense(key_dim//num_heads) for _ in range(num_heads)]\n",
        "    self.dense_v=[Dense(key_dim//num_heads) for _ in range(num_heads)]\n",
        "    self.dense_o=Dense(key_dim)\n",
        "    self.self_attention=CustomSelfAttention(key_dim)\n",
        "\n",
        "  def call(self,query,key,value,attention_mask):\n",
        "    heads=[]\n",
        "\n",
        "    for i in range(self.num_heads):\n",
        "      print(\"hello\", self.dense_q[i](query).shape)\n",
        "      head=self.self_attention(self.dense_q[i](query),self.dense_k[i](key),\n",
        "                              self.dense_v[i](value),attention_mask)\n",
        "      heads.append(head)\n",
        "    print(\"head\", tf.convert_to_tensor(heads).shape)\n",
        "    heads=tf.concat(heads,axis=2)\n",
        "    heads=self.dense_o(heads)\n",
        "    return heads"
      ]
    },
    {
      "cell_type": "markdown",
      "metadata": {
        "id": "S-Y512TzkOKQ"
      },
      "source": [
        "## Encoder"
      ]
    },
    {
      "cell_type": "code",
      "execution_count": null,
      "metadata": {
        "id": "2jvze09LsnAw"
      },
      "outputs": [],
      "source": [
        "#?tf.keras.layers.MultiHeadAttention"
      ]
    },
    {
      "cell_type": "code",
      "execution_count": null,
      "metadata": {
        "id": "t5lTjZBE6M4Q"
      },
      "outputs": [],
      "source": [
        "class TransformerEncoder(Layer):\n",
        "    def __init__(self, embed_dim, dense_dim, num_heads,):\n",
        "        super(TransformerEncoder, self).__init__()\n",
        "        self.embed_dim = embed_dim\n",
        "        self.dense_dim = dense_dim\n",
        "        self.num_heads = num_heads\n",
        "        self.attention = CustomMultiHeadAttention(\n",
        "            num_heads=num_heads, key_dim=embed_dim,\n",
        "        )\n",
        "        self.dense_proj=tf.keras.Sequential(\n",
        "            [Dense(dense_dim, activation=\"relu\"),\n",
        "             Dense(embed_dim),]\n",
        "        )\n",
        "        self.layernorm_1 = LayerNormalization()\n",
        "        self.layernorm_2 = LayerNormalization()\n",
        "        self.supports_masking = True\n",
        "\n",
        "    def call(self, inputs, mask=None):\n",
        "\n",
        "      if mask is not None:\n",
        "        mask = tf.cast(\n",
        "            mask[:,tf.newaxis, :], dtype=\"int32\")\n",
        "        T = tf.shape(mask)[2]\n",
        "        padding_mask = tf.repeat(mask,T,axis=1)\n",
        "      attention_output = self.attention(\n",
        "          query=inputs, key=inputs,value=inputs,\n",
        "          attention_mask=padding_mask\n",
        "      )\n",
        "\n",
        "      proj_input = self.layernorm_1(inputs + attention_output)\n",
        "      proj_output = self.dense_proj(proj_input)\n",
        "      return self.layernorm_2(proj_input + proj_output)"
      ]
    },
    {
      "cell_type": "code",
      "execution_count": null,
      "metadata": {
        "colab": {
          "base_uri": "https://localhost:8080/"
        },
        "id": "hOgozN6bu3hv",
        "outputId": "451a2e2d-40d4-4732-bdc7-ab4e6af5a1c8"
      },
      "outputs": [
        {
          "output_type": "stream",
          "name": "stdout",
          "text": [
            "hello (1, 8, 64)\n",
            "hello (1, 8, 64)\n",
            "hello (1, 8, 64)\n",
            "hello (1, 8, 64)\n",
            "hello (1, 8, 64)\n",
            "hello (1, 8, 64)\n",
            "hello (1, 8, 64)\n",
            "hello (1, 8, 64)\n",
            "head (8, 1, 8, 64)\n",
            "(1, 8, 512)\n"
          ]
        }
      ],
      "source": [
        "encoder_outputs = TransformerEncoder(512,2048,8)(emb_out)\n",
        "print(encoder_outputs.shape)\n"
      ]
    },
    {
      "cell_type": "markdown",
      "metadata": {
        "id": "jDTmNxkmkctq"
      },
      "source": [
        "## Decoder"
      ]
    },
    {
      "cell_type": "code",
      "source": [
        "print(tf.linalg.band_part(\n",
        "        tf.ones([1,8, 8],dtype=tf.int32),-1,0))"
      ],
      "metadata": {
        "colab": {
          "base_uri": "https://localhost:8080/"
        },
        "id": "jdvcn958QLxx",
        "outputId": "1b1dc5a1-5db1-4763-fe51-cdb31674b0b6"
      },
      "execution_count": null,
      "outputs": [
        {
          "output_type": "stream",
          "name": "stdout",
          "text": [
            "tf.Tensor(\n",
            "[[[1 0 0 0 0 0 0 0]\n",
            "  [1 1 0 0 0 0 0 0]\n",
            "  [1 1 1 0 0 0 0 0]\n",
            "  [1 1 1 1 0 0 0 0]\n",
            "  [1 1 1 1 1 0 0 0]\n",
            "  [1 1 1 1 1 1 0 0]\n",
            "  [1 1 1 1 1 1 1 0]\n",
            "  [1 1 1 1 1 1 1 1]]], shape=(1, 8, 8), dtype=int32)\n"
          ]
        }
      ]
    },
    {
      "cell_type": "code",
      "execution_count": null,
      "metadata": {
        "id": "kdHTwxmfHWZW"
      },
      "outputs": [],
      "source": [
        "class TransformerDecoder(Layer):\n",
        "  def __init__(self, embed_dim, latent_dim, num_heads,):\n",
        "    super(TransformerDecoder, self).__init__()\n",
        "    self.embed_dim = embed_dim\n",
        "    self.latent_dim = latent_dim\n",
        "    self.num_heads = num_heads\n",
        "    self.attention_1=MultiHeadAttention(\n",
        "        num_heads=num_heads, key_dim=embed_dim\n",
        "    )\n",
        "    self.attention_2=MultiHeadAttention(\n",
        "        num_heads=num_heads, key_dim=embed_dim\n",
        "    )\n",
        "    self.dense_proj = tf.keras.Sequential(\n",
        "        [Dense(latent_dim, activation=\"relu\"),Dense(embed_dim),]\n",
        "    )\n",
        "    self.layernorm_1=LayerNormalization()\n",
        "    self.layernorm_2=LayerNormalization()\n",
        "    self.layernorm_3=LayerNormalization()\n",
        "    self.supports_masking = True\n",
        "  def call(self, inputs, encoder_outputs, enc_mask, mask=None):\n",
        "\n",
        "\n",
        "    if mask is not None:\n",
        "      causal_mask=tf.linalg.band_part(\n",
        "        tf.ones([tf.shape(inputs)[0],\n",
        "                 tf.shape(inputs)[1],\n",
        "                 tf.shape(inputs)[1]],dtype=tf.int32),-1,0)\n",
        "      mask = tf.cast(\n",
        "          mask[:,tf.newaxis, :], dtype=\"int32\")\n",
        "      enc_mask = tf.cast(\n",
        "          enc_mask[:,tf.newaxis, :], dtype=\"int32\")\n",
        "      T = tf.shape(mask)[2]\n",
        "      padding_mask = tf.repeat(mask,T,axis=1)\n",
        "      cross_attn_mask = tf.repeat(enc_mask,T,axis=1)\n",
        "      combined_mask=tf.minimum(padding_mask,causal_mask)\n",
        "\n",
        "    attention_output_1 = self.attention_1(\n",
        "        query=inputs,key=inputs,value=inputs,\n",
        "        attention_mask=combined_mask,\n",
        "\n",
        "    )\n",
        "\n",
        "    out_1 = self.layernorm_1(inputs + attention_output_1)\n",
        "\n",
        "    attention_output_2= self.attention_2(\n",
        "        query=out_1,key=encoder_outputs,value=encoder_outputs,\n",
        "        attention_mask=cross_attn_mask,\n",
        "\n",
        "    )\n",
        "    out_2 = self.layernorm_2(out_1 + attention_output_2)\n",
        "\n",
        "    proj_output = self.dense_proj(out_2)\n",
        "    return self.layernorm_3(out_2 + proj_output)"
      ]
    },
    {
      "cell_type": "code",
      "execution_count": null,
      "metadata": {
        "colab": {
          "base_uri": "https://localhost:8080/"
        },
        "id": "bm6yX6fix8_4",
        "outputId": "b3d3116c-5d77-4d82-fcc9-d995e122f253"
      },
      "outputs": [
        {
          "output_type": "stream",
          "name": "stdout",
          "text": [
            "before tf.Tensor([[ True  True  True  True  True  True False False]], shape=(1, 8), dtype=bool) (1, 8)\n",
            "the boy tf.Tensor([[[1 1 1 1 1 1 0 0]]], shape=(1, 1, 8), dtype=int32) (1, 1, 8)\n",
            "(1, 8, 512)\n"
          ]
        }
      ],
      "source": [
        "enc_mask=mask\n",
        "decoder_outputs = TransformerDecoder(512,2048,4)(emb_out,encoder_outputs,enc_mask)\n",
        "print(decoder_outputs.shape)"
      ]
    },
    {
      "cell_type": "markdown",
      "metadata": {
        "id": "1SPdfBx8ke-Z"
      },
      "source": [
        "## Transformer Model"
      ]
    },
    {
      "cell_type": "code",
      "execution_count": null,
      "metadata": {
        "id": "wsT7pvXfzh_E"
      },
      "outputs": [],
      "source": [
        "EMBEDDING_DIM=512\n",
        "D_FF=2048\n",
        "NUM_HEADS=8\n",
        "NUM_LAYERS=1\n",
        "NUM_EPOCHS=10"
      ]
    },
    {
      "cell_type": "code",
      "execution_count": null,
      "metadata": {
        "colab": {
          "base_uri": "https://localhost:8080/"
        },
        "id": "-7_vJmd8HWbu",
        "outputId": "73ac16d5-9cd9-419f-943f-c097b31756a6"
      },
      "outputs": [
        {
          "output_type": "stream",
          "name": "stdout",
          "text": [
            "Model: \"transformer\"\n",
            "__________________________________________________________________________________________________\n",
            " Layer (type)                   Output Shape         Param #     Connected to                     \n",
            "==================================================================================================\n",
            " input_1 (InputLayer)           [(None, None)]       0           []                               \n",
            "                                                                                                  \n",
            " input_2 (InputLayer)           [(None, None)]       0           []                               \n",
            "                                                                                                  \n",
            " embeddings_3 (Embeddings)      (None, 32, 512)      10240000    ['input_1[0][0]']                \n",
            "                                                                                                  \n",
            " embeddings_4 (Embeddings)      (None, 32, 512)      10240000    ['input_2[0][0]']                \n",
            "                                                                                                  \n",
            " transformer_encoder_3 (Transfo  (None, 32, 512)     10503168    ['embeddings_3[0][0]']           \n",
            " rmerEncoder)                                                                                     \n",
            "                                                                                                  \n",
            " tf.math.not_equal_1 (TFOpLambd  (None, None)        0           ['input_1[0][0]']                \n",
            " a)                                                                                               \n",
            "                                                                                                  \n",
            " transformer_decoder_3 (Transfo  (None, 32, 512)     18905600    ['embeddings_4[0][0]',           \n",
            " rmerDecoder)                                                     'transformer_encoder_3[0][0]',  \n",
            "                                                                  'tf.math.not_equal_1[0][0]']    \n",
            "                                                                                                  \n",
            " dropout_4 (Dropout)            (None, 32, 512)      0           ['transformer_decoder_3[0][0]']  \n",
            "                                                                                                  \n",
            " dense_17 (Dense)               (None, 32, 20000)    10260000    ['dropout_4[0][0]']              \n",
            "                                                                                                  \n",
            "==================================================================================================\n",
            "Total params: 60,148,768\n",
            "Trainable params: 60,148,768\n",
            "Non-trainable params: 0\n",
            "__________________________________________________________________________________________________\n"
          ]
        }
      ],
      "source": [
        "encoder_inputs=Input(shape=(None,), dtype=\"int64\", name=\"input_1\")\n",
        "emb = Embeddings(ENGLISH_SEQUENCE_LENGTH,VOCAB_SIZE,EMBEDDING_DIM)\n",
        "x = emb(encoder_inputs)\n",
        "enc_mask = emb.compute_mask(encoder_inputs)\n",
        "\n",
        "for _ in range(NUM_LAYERS):\n",
        "  x=TransformerEncoder(EMBEDDING_DIM,D_FF,NUM_HEADS)(x)\n",
        "encoder_outputs=x\n",
        "\n",
        "decoder_inputs=Input(shape=(None,), dtype=\"int64\", name=\"input_2\")\n",
        "\n",
        "x = Embeddings(FRENCH_SEQUENCE_LENGTH,VOCAB_SIZE,EMBEDDING_DIM)(decoder_inputs)\n",
        "for i in range(NUM_LAYERS):\n",
        "  x=TransformerDecoder(EMBEDDING_DIM,D_FF,NUM_HEADS)(x, encoder_outputs,enc_mask)\n",
        "x=tf.keras.layers.Dropout(0.5)(x)\n",
        "decoder_outputs=Dense(VOCAB_SIZE, activation=\"softmax\")(x)\n",
        "\n",
        "transformer = tf.keras.Model(\n",
        "    [encoder_inputs, decoder_inputs], decoder_outputs, name=\"transformer\"\n",
        ")\n",
        "transformer.summary()"
      ]
    },
    {
      "cell_type": "markdown",
      "metadata": {
        "id": "urO3w5e971Hp"
      },
      "source": [
        "# Training"
      ]
    },
    {
      "cell_type": "code",
      "execution_count": null,
      "metadata": {
        "id": "aBb_YQFGaztF"
      },
      "outputs": [],
      "source": [
        "class BLEU(tf.keras.metrics.Metric):\n",
        "    def __init__(self,name='bleu_score'):\n",
        "        super(BLEU,self).__init__()\n",
        "        self.bleu_score=0\n",
        "\n",
        "    def update_state(self,y_true,y_pred,sample_weight=None):\n",
        "      y_pred=tf.argmax(y_pred,-1)\n",
        "      self.bleu_score=0\n",
        "      for i,j in zip(y_pred,y_true):\n",
        "        tf.autograph.experimental.set_loop_options()\n",
        "\n",
        "        total_words=tf.math.count_nonzero(i)\n",
        "        total_matches=0\n",
        "        for word in i:\n",
        "          if word==0:\n",
        "            break\n",
        "          for q in range(len(j)):\n",
        "            if j[q]==0:\n",
        "              break\n",
        "            if word==j[q]:\n",
        "              total_matches+=1\n",
        "              j=tf.boolean_mask(j,[False if y==q else True for y in range(len(j))])\n",
        "              break\n",
        "\n",
        "        self.bleu_score+=total_matches/total_words\n",
        "\n",
        "    def result(self):\n",
        "        return self.bleu_score/BATCH_SIZE"
      ]
    },
    {
      "cell_type": "code",
      "source": [
        "class Scheduler(LearningRateSchedule):\n",
        "  def __init__(self, d_model, warmup_steps):\n",
        "    super(Scheduler, self).__init__()\n",
        "    self.d_model = tf.cast(d_model, tf.float64)\n",
        "    self.warmup_steps = tf.cast(warmup_steps, dtype=tf.float64)\n",
        "\n",
        "  def __call__(self, step):\n",
        "    step = tf.cast(step, dtype=tf.float64)\n",
        "    return (self.d_model**(-0.5))*tf.math.minimum(step**(-0.5), step * (self.warmup_steps ** -1.5))"
      ],
      "metadata": {
        "id": "-BGwG2PlbZAB"
      },
      "execution_count": null,
      "outputs": []
    },
    {
      "cell_type": "code",
      "source": [
        "WARM_UP_STEPS = 4000\n",
        "lr_scheduled = Scheduler(EMBEDDING_DIM, WARM_UP_STEPS)"
      ],
      "metadata": {
        "id": "OzXSQmVEeDsR"
      },
      "execution_count": null,
      "outputs": []
    },
    {
      "cell_type": "code",
      "execution_count": null,
      "metadata": {
        "id": "iAKCOX98HWd9"
      },
      "outputs": [],
      "source": [
        "transformer.compile(\n",
        "    loss=tf.keras.losses.SparseCategoricalCrossentropy(),\n",
        "    optimizer = Adam(lr_scheduled, beta_1=0.9, beta_2=0.98, epsilon=1e-9),)\n",
        "    #metrics=[BLEU()],\n",
        "    #run_eagerly=True)"
      ]
    },
    {
      "cell_type": "code",
      "execution_count": null,
      "metadata": {
        "colab": {
          "base_uri": "https://localhost:8080/"
        },
        "id": "2529VjOrVuGe",
        "outputId": "61d675e5-21c4-4b21-d487-252e028ccdd5"
      },
      "outputs": [
        {
          "output_type": "stream",
          "name": "stdout",
          "text": [
            "Epoch 1/10\n",
            "1405/1405 [==============================] - 365s 237ms/step - loss: 5.4511 - val_loss: 4.7071\n",
            "Epoch 2/10\n",
            "1405/1405 [==============================] - 213s 151ms/step - loss: 3.3392 - val_loss: 3.7340\n",
            "Epoch 3/10\n",
            "1405/1405 [==============================] - 211s 149ms/step - loss: 2.6036 - val_loss: 3.3412\n",
            "Epoch 4/10\n",
            "1405/1405 [==============================] - 208s 148ms/step - loss: 2.1854 - val_loss: 3.0057\n",
            "Epoch 5/10\n",
            "1405/1405 [==============================] - 208s 148ms/step - loss: 1.9171 - val_loss: 2.8613\n",
            "Epoch 6/10\n",
            "1405/1405 [==============================] - 208s 148ms/step - loss: 1.7524 - val_loss: 2.7807\n",
            "Epoch 7/10\n",
            "1405/1405 [==============================] - 209s 148ms/step - loss: 1.6374 - val_loss: 2.7714\n",
            "Epoch 8/10\n",
            "1405/1405 [==============================] - 207s 147ms/step - loss: 1.5560 - val_loss: 2.7180\n",
            "Epoch 9/10\n",
            "1405/1405 [==============================] - 208s 148ms/step - loss: 1.4913 - val_loss: 2.7244\n",
            "Epoch 10/10\n",
            "1405/1405 [==============================] - 207s 147ms/step - loss: 1.4406 - val_loss: 2.7238\n"
          ]
        }
      ],
      "source": [
        "history=transformer.fit(\n",
        "    train_dataset,\n",
        "    validation_data=val_dataset,\n",
        "    epochs=10)"
      ]
    },
    {
      "cell_type": "code",
      "source": [
        "transformer.save_weights('/content/drive/MyDrive/transformers.h5')"
      ],
      "metadata": {
        "id": "3RoBvoMzeSPx"
      },
      "execution_count": null,
      "outputs": []
    },
    {
      "cell_type": "code",
      "execution_count": null,
      "metadata": {
        "id": "rj3wLwSW7EMb",
        "colab": {
          "base_uri": "https://localhost:8080/",
          "height": 472
        },
        "outputId": "6e6b320c-526b-4c82-f8f1-09a052d192dc"
      },
      "outputs": [
        {
          "output_type": "display_data",
          "data": {
            "text/plain": [
              "<Figure size 640x480 with 1 Axes>"
            ],
            "image/png": "[encoded data removed]"
          },
          "metadata": {}
        }
      ],
      "source": [
        "plt.plot(history.history['loss'])\n",
        "plt.plot(history.history['val_loss'])\n",
        "plt.title('model_loss')\n",
        "plt.ylabel('loss')\n",
        "plt.xlabel('epoch')\n",
        "plt.legend(['train', 'val'], loc='upper left')\n",
        "plt.show()"
      ]
    },
    {
      "cell_type": "code",
      "execution_count": null,
      "metadata": {
        "id": "pWJfUFU9VrQx",
        "colab": {
          "base_uri": "https://localhost:8080/"
        },
        "outputId": "2b2a9972-d500-4850-afa0-988d349125e0"
      },
      "outputs": [
        {
          "output_type": "stream",
          "name": "stdout",
          "text": [
            "375/375 [==============================] - 53s 46ms/step - loss: 2.7233\n"
          ]
        },
        {
          "output_type": "execute_result",
          "data": {
            "text/plain": [
              "2.7233364582061768"
            ]
          },
          "metadata": {},
          "execution_count": 70
        }
      ],
      "source": [
        "transformer.evaluate(val_dataset)"
      ]
    },
    {
      "cell_type": "markdown",
      "metadata": {
        "id": "4i1ajAymaDoF"
      },
      "source": [
        "# Testing"
      ]
    },
    {
      "cell_type": "code",
      "execution_count": null,
      "metadata": {
        "id": "b5vMnTM62Cx_"
      },
      "outputs": [],
      "source": [
        "index_to_word={x:y for x, y in zip(range(len(french_vectorize_layer.get_vocabulary())),\n",
        "                                   french_vectorize_layer.get_vocabulary())}"
      ]
    },
    {
      "cell_type": "code",
      "execution_count": null,
      "metadata": {
        "id": "HiWzshkMKfQg"
      },
      "outputs": [],
      "source": [
        "def translator(english_sentence):\n",
        "  tokenized_english_sentence=english_vectorize_layer([english_sentence])\n",
        "  shifted_target='starttoken'\n",
        "\n",
        "  for i in range(FRENCH_SEQUENCE_LENGTH):\n",
        "    tokenized_shifted_target=french_vectorize_layer([shifted_target])\n",
        "    output=transformer.predict([tokenized_english_sentence,tokenized_shifted_target])\n",
        "    french_word_index=tf.argmax(output,axis=-1)[0][i].numpy()\n",
        "    current_word=index_to_word[french_word_index]\n",
        "    if current_word=='endtoken':\n",
        "      break\n",
        "    shifted_target+=' '+current_word\n",
        "  return shifted_target[11:]"
      ]
    },
    {
      "cell_type": "code",
      "execution_count": null,
      "metadata": {
        "colab": {
          "base_uri": "https://localhost:8080/",
          "height": 226
        },
        "id": "0RYy2vtxKfS7",
        "outputId": "ad3b8011-9da8-412a-f2af-3112323f363a"
      },
      "outputs": [
        {
          "output_type": "stream",
          "name": "stdout",
          "text": [
            "1/1 [==============================] - 0s 28ms/step\n",
            "1/1 [==============================] - 0s 30ms/step\n",
            "1/1 [==============================] - 0s 33ms/step\n",
            "1/1 [==============================] - 0s 28ms/step\n",
            "1/1 [==============================] - 0s 29ms/step\n",
            "1/1 [==============================] - 0s 29ms/step\n",
            "1/1 [==============================] - 0s 30ms/step\n",
            "1/1 [==============================] - 0s 35ms/step\n",
            "1/1 [==============================] - 0s 49ms/step\n",
            "1/1 [==============================] - 0s 43ms/step\n",
            "1/1 [==============================] - 0s 42ms/step\n"
          ]
        },
        {
          "output_type": "execute_result",
          "data": {
            "text/plain": [
              "'questce qui te fait penser que ce nest pas vrai'"
            ],
            "application/vnd.google.colaboratory.intrinsic+json": {
              "type": "string"
            }
          },
          "metadata": {},
          "execution_count": 101
        }
      ],
      "source": [
        "translator('What makes you think that it is not true?')"
      ]
    },
    {
      "cell_type": "code",
      "execution_count": null,
      "metadata": {
        "colab": {
          "base_uri": "https://localhost:8080/",
          "height": 191
        },
        "id": "f1BQFbrdKfVZ",
        "outputId": "4d574f8e-5a3e-4bbd-ee4b-0f491c134cb5"
      },
      "outputs": [
        {
          "output_type": "stream",
          "name": "stdout",
          "text": [
            "1/1 [==============================] - 0s 46ms/step\n",
            "1/1 [==============================] - 0s 43ms/step\n",
            "1/1 [==============================] - 0s 42ms/step\n",
            "1/1 [==============================] - 0s 42ms/step\n",
            "1/1 [==============================] - 0s 43ms/step\n",
            "1/1 [==============================] - 0s 41ms/step\n",
            "1/1 [==============================] - 0s 66ms/step\n",
            "1/1 [==============================] - 0s 43ms/step\n",
            "1/1 [==============================] - 0s 45ms/step\n"
          ]
        },
        {
          "output_type": "execute_result",
          "data": {
            "text/plain": [
              "'astu déjà regardé au foot sous la pluie'"
            ],
            "application/vnd.google.colaboratory.intrinsic+json": {
              "type": "string"
            }
          },
          "metadata": {},
          "execution_count": 102
        }
      ],
      "source": [
        "translator('Have you ever watched soccer under the rain?')"
      ]
    },
    {
      "cell_type": "code",
      "execution_count": null,
      "metadata": {
        "colab": {
          "base_uri": "https://localhost:8080/",
          "height": 174
        },
        "id": "je_d1YvagbZO",
        "outputId": "82fc31d3-5a9f-4b64-9fb7-ebcfcd926336"
      },
      "outputs": [
        {
          "output_type": "stream",
          "name": "stdout",
          "text": [
            "1/1 [==============================] - 0s 43ms/step\n",
            "1/1 [==============================] - 0s 51ms/step\n",
            "1/1 [==============================] - 0s 44ms/step\n",
            "1/1 [==============================] - 0s 55ms/step\n",
            "1/1 [==============================] - 0s 42ms/step\n",
            "1/1 [==============================] - 0s 49ms/step\n",
            "1/1 [==============================] - 0s 44ms/step\n",
            "1/1 [==============================] - 0s 49ms/step\n"
          ]
        },
        {
          "output_type": "execute_result",
          "data": {
            "text/plain": [
              "'quel est ton nom de ton nom'"
            ],
            "application/vnd.google.colaboratory.intrinsic+json": {
              "type": "string"
            }
          },
          "metadata": {},
          "execution_count": 103
        }
      ],
      "source": [
        "translator(\"what is your name?\")"
      ]
    },
    {
      "cell_type": "code",
      "execution_count": null,
      "metadata": {
        "colab": {
          "base_uri": "https://localhost:8080/",
          "height": 261
        },
        "id": "jWoISRgEVM_J",
        "outputId": "db4ebd2f-f3d1-418e-8aaa-a6449005100d"
      },
      "outputs": [
        {
          "output_type": "stream",
          "name": "stdout",
          "text": [
            "1/1 [==============================] - 0s 44ms/step\n",
            "1/1 [==============================] - 0s 38ms/step\n",
            "1/1 [==============================] - 0s 29ms/step\n",
            "1/1 [==============================] - 0s 28ms/step\n",
            "1/1 [==============================] - 0s 29ms/step\n",
            "1/1 [==============================] - 0s 32ms/step\n",
            "1/1 [==============================] - 0s 36ms/step\n",
            "1/1 [==============================] - 0s 31ms/step\n",
            "1/1 [==============================] - 0s 32ms/step\n",
            "1/1 [==============================] - 0s 35ms/step\n",
            "1/1 [==============================] - 0s 28ms/step\n",
            "1/1 [==============================] - 0s 38ms/step\n",
            "1/1 [==============================] - 0s 27ms/step\n"
          ]
        },
        {
          "output_type": "execute_result",
          "data": {
            "text/plain": [
              "'de grands arbres ne font pas de tête à la plus grande'"
            ],
            "application/vnd.google.colaboratory.intrinsic+json": {
              "type": "string"
            }
          },
          "metadata": {},
          "execution_count": 104
        }
      ],
      "source": [
        "translator('Great trees do not grow with ease, the stronger the winds, the stronger the trees')"
      ]
    },
    {
      "cell_type": "code",
      "execution_count": null,
      "metadata": {
        "colab": {
          "base_uri": "https://localhost:8080/",
          "height": 174
        },
        "id": "BtuuqPkgVNB0",
        "outputId": "9692162c-a571-4b5f-f380-bbddf3672934"
      },
      "outputs": [
        {
          "output_type": "stream",
          "name": "stdout",
          "text": [
            "1/1 [==============================] - 0s 31ms/step\n",
            "1/1 [==============================] - 0s 30ms/step\n",
            "1/1 [==============================] - 0s 36ms/step\n",
            "1/1 [==============================] - 0s 28ms/step\n",
            "1/1 [==============================] - 0s 32ms/step\n",
            "1/1 [==============================] - 0s 30ms/step\n",
            "1/1 [==============================] - 0s 29ms/step\n",
            "1/1 [==============================] - 0s 28ms/step\n"
          ]
        },
        {
          "output_type": "execute_result",
          "data": {
            "text/plain": [
              "'mon hôtel ma dit de vous appeler'"
            ],
            "application/vnd.google.colaboratory.intrinsic+json": {
              "type": "string"
            }
          },
          "metadata": {},
          "execution_count": 105
        }
      ],
      "source": [
        "translator('My hotel told me to call you. ')"
      ]
    },
    {
      "cell_type": "code",
      "execution_count": null,
      "metadata": {
        "colab": {
          "base_uri": "https://localhost:8080/",
          "height": 174
        },
        "id": "levLKdrZerPj",
        "outputId": "ac802de6-f6a7-45dd-da82-21538e9f6b5b"
      },
      "outputs": [
        {
          "output_type": "stream",
          "name": "stdout",
          "text": [
            "1/1 [==============================] - 0s 34ms/step\n",
            "1/1 [==============================] - 0s 31ms/step\n",
            "1/1 [==============================] - 0s 30ms/step\n",
            "1/1 [==============================] - 0s 27ms/step\n",
            "1/1 [==============================] - 0s 30ms/step\n",
            "1/1 [==============================] - 0s 29ms/step\n",
            "1/1 [==============================] - 0s 34ms/step\n",
            "1/1 [==============================] - 0s 30ms/step\n"
          ]
        },
        {
          "output_type": "execute_result",
          "data": {
            "text/plain": [
              "'son français devient peu peu de peu'"
            ],
            "application/vnd.google.colaboratory.intrinsic+json": {
              "type": "string"
            }
          },
          "metadata": {},
          "execution_count": 106
        }
      ],
      "source": [
        "translator('His French is improving little by little')"
      ]
    },
    {
      "cell_type": "code",
      "execution_count": null,
      "metadata": {
        "colab": {
          "base_uri": "https://localhost:8080/",
          "height": 122
        },
        "id": "jFEqsF4AerR3",
        "outputId": "f33f9e02-c0e1-44fc-80fd-661a0d1ce926"
      },
      "outputs": [
        {
          "output_type": "stream",
          "name": "stdout",
          "text": [
            "1/1 [==============================] - 0s 30ms/step\n",
            "1/1 [==============================] - 0s 28ms/step\n",
            "1/1 [==============================] - 0s 31ms/step\n",
            "1/1 [==============================] - 0s 44ms/step\n",
            "1/1 [==============================] - 0s 27ms/step\n"
          ]
        },
        {
          "output_type": "execute_result",
          "data": {
            "text/plain": [
              "'jaime écrire à écrire'"
            ],
            "application/vnd.google.colaboratory.intrinsic+json": {
              "type": "string"
            }
          },
          "metadata": {},
          "execution_count": 107
        }
      ],
      "source": [
        "translator('I love to write')"
      ]
    },
    {
      "cell_type": "code",
      "execution_count": null,
      "metadata": {
        "colab": {
          "base_uri": "https://localhost:8080/",
          "height": 122
        },
        "id": "_27Gta23erUa",
        "outputId": "b75c9817-37fa-4217-e5e6-4a03a5976c40"
      },
      "outputs": [
        {
          "output_type": "stream",
          "name": "stdout",
          "text": [
            "1/1 [==============================] - 0s 30ms/step\n",
            "1/1 [==============================] - 0s 35ms/step\n",
            "1/1 [==============================] - 0s 30ms/step\n",
            "1/1 [==============================] - 0s 31ms/step\n",
            "1/1 [==============================] - 0s 32ms/step\n"
          ]
        },
        {
          "output_type": "execute_result",
          "data": {
            "text/plain": [
              "'peutêtre quelle viendra demain'"
            ],
            "application/vnd.google.colaboratory.intrinsic+json": {
              "type": "string"
            }
          },
          "metadata": {},
          "execution_count": 108
        }
      ],
      "source": [
        "translator('Perhaps she will come tomorrow')"
      ]
    },
    {
      "cell_type": "code",
      "execution_count": null,
      "metadata": {
        "colab": {
          "base_uri": "https://localhost:8080/",
          "height": 157
        },
        "id": "d1FizaA6erXE",
        "outputId": "f3896942-5d45-47a3-babe-c898c4c44f73"
      },
      "outputs": [
        {
          "output_type": "stream",
          "name": "stdout",
          "text": [
            "1/1 [==============================] - 0s 31ms/step\n",
            "1/1 [==============================] - 0s 28ms/step\n",
            "1/1 [==============================] - 0s 28ms/step\n",
            "1/1 [==============================] - 0s 28ms/step\n",
            "1/1 [==============================] - 0s 28ms/step\n",
            "1/1 [==============================] - 0s 28ms/step\n",
            "1/1 [==============================] - 0s 30ms/step\n"
          ]
        },
        {
          "output_type": "execute_result",
          "data": {
            "text/plain": [
              "'tom na jamais entendu mary chanter'"
            ],
            "application/vnd.google.colaboratory.intrinsic+json": {
              "type": "string"
            }
          },
          "metadata": {},
          "execution_count": 109
        }
      ],
      "source": [
        "translator('Tom has never heard Mary sing.')"
      ]
    },
    {
      "cell_type": "code",
      "execution_count": null,
      "metadata": {
        "colab": {
          "base_uri": "https://localhost:8080/",
          "height": 174
        },
        "id": "fekzqiwGerZd",
        "outputId": "b328ceb0-11cf-4ab2-a513-bc04f63a3809"
      },
      "outputs": [
        {
          "output_type": "stream",
          "name": "stdout",
          "text": [
            "1/1 [==============================] - 0s 31ms/step\n",
            "1/1 [==============================] - 0s 33ms/step\n",
            "1/1 [==============================] - 0s 33ms/step\n",
            "1/1 [==============================] - 0s 32ms/step\n",
            "1/1 [==============================] - 0s 28ms/step\n",
            "1/1 [==============================] - 0s 32ms/step\n",
            "1/1 [==============================] - 0s 36ms/step\n",
            "1/1 [==============================] - 0s 28ms/step\n"
          ]
        },
        {
          "output_type": "execute_result",
          "data": {
            "text/plain": [
              "'elle lui a donné largent de largent'"
            ],
            "application/vnd.google.colaboratory.intrinsic+json": {
              "type": "string"
            }
          },
          "metadata": {},
          "execution_count": 110
        }
      ],
      "source": [
        "translator('She handed him the money')"
      ]
    },
    {
      "cell_type": "markdown",
      "metadata": {
        "id": "5-dufWz8d2k_"
      },
      "source": [
        "# Visualization"
      ]
    },
    {
      "cell_type": "code",
      "source": [
        "from google.colab import drive\n",
        "drive.mount('/content/drive')"
      ],
      "metadata": {
        "colab": {
          "base_uri": "https://localhost:8080/"
        },
        "id": "wxPfWHQbN3In",
        "outputId": "25f9f4f6-28f2-4bf8-b45c-da91e30386c6"
      },
      "execution_count": null,
      "outputs": [
        {
          "output_type": "stream",
          "name": "stdout",
          "text": [
            "Mounted at /content/drive\n"
          ]
        }
      ]
    },
    {
      "cell_type": "code",
      "execution_count": null,
      "metadata": {
        "colab": {
          "base_uri": "https://localhost:8080/"
        },
        "id": "0-d86MTK3gJ0",
        "outputId": "aff68747-9e08-405d-fac6-e9b00ff3508b"
      },
      "outputs": [
        {
          "name": "stderr",
          "output_type": "stream",
          "text": [
            "WARNING:tensorflow:5 out of the last 26 calls to <function Model.make_predict_function.<locals>.predict_function at 0x7f1de559c830> triggered tf.function retracing. Tracing is expensive and the excessive number of tracings could be due to (1) creating @tf.function repeatedly in a loop, (2) passing tensors with different shapes, (3) passing Python objects instead of tensors. For (1), please define your @tf.function outside of the loop. For (2), @tf.function has experimental_relax_shapes=True option that relaxes argument shapes that can avoid unnecessary retracing. For (3), please refer to https://www.tensorflow.org/guide/function#controlling_retracing and https://www.tensorflow.org/api_docs/python/tf/function for  more details.\n"
          ]
        }
      ],
      "source": [
        "def visualize(english_sentence):\n",
        "  tokenized_english_sentence=english_vectorize_layer([english_sentence])\n",
        "  shifted_target='starttoken je lai fait très bien'\n",
        "\n",
        "  tokenized_shifted_target=french_vectorize_layer([shifted_target])\n",
        "  attention_weights=attention_score_model.predict([tokenized_english_sentence,\n",
        "                                                   tokenized_shifted_target])\n",
        "\n",
        "  return attention_weights\n",
        "\n",
        "out=visualize('I did it very well')\n"
      ]
    },
    {
      "cell_type": "code",
      "execution_count": null,
      "metadata": {
        "colab": {
          "base_uri": "https://localhost:8080/"
        },
        "id": "4G2b6i3APj7I",
        "outputId": "b9c1db3f-9bd1-477f-ba16-3a223f05c92e"
      },
      "outputs": [
        {
          "name": "stdout",
          "output_type": "stream",
          "text": [
            "(8, 64, 64)\n"
          ]
        }
      ],
      "source": [
        "print(out['decoder_layer1_block2'][0].shape)"
      ]
    },
    {
      "cell_type": "code",
      "execution_count": null,
      "metadata": {
        "colab": {
          "base_uri": "https://localhost:8080/",
          "height": 565
        },
        "id": "dhg9F90xPkA0",
        "outputId": "0e480fc9-9291-4125-9a6b-405d3b054265"
      },
      "outputs": [
        {
          "data": {
            "image/png": "[encoded data removed]",
            "text/plain": [
              "<Figure size 864x864 with 8 Axes>"
            ]
          },
          "metadata": {},
          "output_type": "display_data"
        }
      ],
      "source": [
        "plt.figure(figsize = (12,12))\n",
        "\n",
        "for i in range(NUM_HEADS):\n",
        "  ax = plt.subplot(2,4, i+1)\n",
        "\n",
        "  plt.imshow(out['decoder_layer1_block2'][0][i][0:10,0:10])\n",
        "  plt.title(\"Attention Scores for head:->\"+str(i+1))"
      ]
    },
    {
      "cell_type": "code",
      "execution_count": null,
      "metadata": {
        "id": "kfo16S7IPkCn"
      },
      "outputs": [],
      "source": []
    },
    {
      "cell_type": "code",
      "execution_count": null,
      "metadata": {
        "id": "UQrTxW7kDUki"
      },
      "outputs": [],
      "source": []
    },
    {
      "cell_type": "code",
      "execution_count": null,
      "metadata": {
        "id": "XJ9KjorWDUnL"
      },
      "outputs": [],
      "source": []
    },
    {
      "cell_type": "code",
      "execution_count": null,
      "metadata": {
        "id": "1KTaNE-pDUqj"
      },
      "outputs": [],
      "source": []
    },
    {
      "cell_type": "code",
      "execution_count": null,
      "metadata": {
        "id": "A2lMBYRIDUsK"
      },
      "outputs": [],
      "source": []
    },
    {
      "cell_type": "code",
      "execution_count": null,
      "metadata": {
        "id": "wy3nS93-DUt_"
      },
      "outputs": [],
      "source": []
    },
    {
      "cell_type": "code",
      "execution_count": null,
      "metadata": {
        "id": "1jHU34XoDUvu"
      },
      "outputs": [],
      "source": []
    },
    {
      "cell_type": "code",
      "execution_count": null,
      "metadata": {
        "id": "h3i6BLkADUyF"
      },
      "outputs": [],
      "source": []
    },
    {
      "cell_type": "code",
      "execution_count": null,
      "metadata": {
        "id": "itHuHsMeDU03"
      },
      "outputs": [],
      "source": []
    },
    {
      "cell_type": "code",
      "execution_count": null,
      "metadata": {
        "id": "YeDY5DfGDU3e"
      },
      "outputs": [],
      "source": []
    },
    {
      "cell_type": "code",
      "execution_count": null,
      "metadata": {
        "id": "ISPzJXr4DU7S"
      },
      "outputs": [],
      "source": []
    },
    {
      "cell_type": "code",
      "execution_count": null,
      "metadata": {
        "colab": {
          "base_uri": "https://localhost:8080/",
          "height": 1000
        },
        "id": "Hrc4k-JQRnvf",
        "outputId": "d4bab904-3a29-47e9-fb17-490bcc77ddd1"
      },
      "outputs": [
        {
          "name": "stdout",
          "output_type": "stream",
          "text": [
            "Looking in indexes: https://pypi.org/simple, https://us-python.pkg.dev/colab-wheels/public/simple/\n",
            "Collecting aicrowd-cli\n",
            "  Downloading aicrowd_cli-0.1.15-py3-none-any.whl (51 kB)\n",
            "\u001b[K     |████████████████████████████████| 51 kB 4.0 MB/s \n",
            "\u001b[?25hCollecting semver<3,>=2.13.0\n",
            "  Downloading semver-2.13.0-py2.py3-none-any.whl (12 kB)\n",
            "Collecting requests<3,>=2.25.1\n",
            "  Downloading requests-2.28.1-py3-none-any.whl (62 kB)\n",
            "\u001b[K     |████████████████████████████████| 62 kB 1.7 MB/s \n",
            "\u001b[?25hCollecting pyzmq==22.1.0\n",
            "  Downloading pyzmq-22.1.0-cp37-cp37m-manylinux1_x86_64.whl (1.1 MB)\n",
            "\u001b[K     |████████████████████████████████| 1.1 MB 44.1 MB/s \n",
            "\u001b[?25hRequirement already satisfied: tqdm<5,>=4.56.0 in /usr/local/lib/python3.7/dist-packages (from aicrowd-cli) (4.64.0)\n",
            "Collecting GitPython==3.1.18\n",
            "  Downloading GitPython-3.1.18-py3-none-any.whl (170 kB)\n",
            "\u001b[K     |████████████████████████████████| 170 kB 72.7 MB/s \n",
            "\u001b[?25hRequirement already satisfied: click<8,>=7.1.2 in /usr/local/lib/python3.7/dist-packages (from aicrowd-cli) (7.1.2)\n",
            "Collecting rich<11,>=10.0.0\n",
            "  Downloading rich-10.16.2-py3-none-any.whl (214 kB)\n",
            "\u001b[K     |████████████████████████████████| 214 kB 61.2 MB/s \n",
            "\u001b[?25hRequirement already satisfied: toml<1,>=0.10.2 in /usr/local/lib/python3.7/dist-packages (from aicrowd-cli) (0.10.2)\n",
            "Collecting requests-toolbelt<1,>=0.9.1\n",
            "  Downloading requests_toolbelt-0.9.1-py2.py3-none-any.whl (54 kB)\n",
            "\u001b[K     |████████████████████████████████| 54 kB 3.5 MB/s \n",
            "\u001b[?25hCollecting python-slugify<6,>=5.0.0\n",
            "  Downloading python_slugify-5.0.2-py2.py3-none-any.whl (6.7 kB)\n",
            "Requirement already satisfied: typing-extensions>=3.7.4.0 in /usr/local/lib/python3.7/dist-packages (from GitPython==3.1.18->aicrowd-cli) (4.1.1)\n",
            "Collecting gitdb<5,>=4.0.1\n",
            "  Downloading gitdb-4.0.9-py3-none-any.whl (63 kB)\n",
            "\u001b[K     |████████████████████████████████| 63 kB 2.3 MB/s \n",
            "\u001b[?25hCollecting smmap<6,>=3.0.1\n",
            "  Downloading smmap-5.0.0-py3-none-any.whl (24 kB)\n",
            "Requirement already satisfied: text-unidecode>=1.3 in /usr/local/lib/python3.7/dist-packages (from python-slugify<6,>=5.0.0->aicrowd-cli) (1.3)\n",
            "Requirement already satisfied: idna<4,>=2.5 in /usr/local/lib/python3.7/dist-packages (from requests<3,>=2.25.1->aicrowd-cli) (2.10)\n",
            "Requirement already satisfied: urllib3<1.27,>=1.21.1 in /usr/local/lib/python3.7/dist-packages (from requests<3,>=2.25.1->aicrowd-cli) (1.24.3)\n",
            "Requirement already satisfied: charset-normalizer<3,>=2 in /usr/local/lib/python3.7/dist-packages (from requests<3,>=2.25.1->aicrowd-cli) (2.1.1)\n",
            "Requirement already satisfied: certifi>=2017.4.17 in /usr/local/lib/python3.7/dist-packages (from requests<3,>=2.25.1->aicrowd-cli) (2022.6.15)\n",
            "Collecting commonmark<0.10.0,>=0.9.0\n",
            "  Downloading commonmark-0.9.1-py2.py3-none-any.whl (51 kB)\n",
            "\u001b[K     |████████████████████████████████| 51 kB 7.9 MB/s \n",
            "\u001b[?25hRequirement already satisfied: pygments<3.0.0,>=2.6.0 in /usr/local/lib/python3.7/dist-packages (from rich<11,>=10.0.0->aicrowd-cli) (2.6.1)\n",
            "Collecting colorama<0.5.0,>=0.4.0\n",
            "  Downloading colorama-0.4.5-py2.py3-none-any.whl (16 kB)\n",
            "Installing collected packages: smmap, requests, gitdb, commonmark, colorama, semver, rich, requests-toolbelt, pyzmq, python-slugify, GitPython, aicrowd-cli\n",
            "  Attempting uninstall: requests\n",
            "    Found existing installation: requests 2.23.0\n",
            "    Uninstalling requests-2.23.0:\n",
            "      Successfully uninstalled requests-2.23.0\n",
            "  Attempting uninstall: pyzmq\n",
            "    Found existing installation: pyzmq 23.2.1\n",
            "    Uninstalling pyzmq-23.2.1:\n",
            "      Successfully uninstalled pyzmq-23.2.1\n",
            "  Attempting uninstall: python-slugify\n",
            "    Found existing installation: python-slugify 6.1.2\n",
            "    Uninstalling python-slugify-6.1.2:\n",
            "      Successfully uninstalled python-slugify-6.1.2\n",
            "Successfully installed GitPython-3.1.18 aicrowd-cli-0.1.15 colorama-0.4.5 commonmark-0.9.1 gitdb-4.0.9 python-slugify-5.0.2 pyzmq-22.1.0 requests-2.28.1 requests-toolbelt-0.9.1 rich-10.16.2 semver-2.13.0 smmap-5.0.0\n"
          ]
        },
        {
          "data": {
            "application/vnd.colab-display-data+json": {
              "pip_warning": {
                "packages": [
                  "zmq"
                ]
              }
            }
          },
          "metadata": {},
          "output_type": "display_data"
        }
      ],
      "source": [
        "!pip install aicrowd-cli"
      ]
    },
    {
      "cell_type": "code",
      "execution_count": null,
      "metadata": {
        "colab": {
          "base_uri": "https://localhost:8080/"
        },
        "id": "J1Mz0vBYRn10",
        "outputId": "e3b63ceb-75c7-48a5-e607-a1c72ea6f4a7"
      },
      "outputs": [
        {
          "name": "stdout",
          "output_type": "stream",
          "text": [
            "Please login here: \u001b[34m\u001b[1m\u001b[4mhttps://api.aicrowd.com/auth/wtHm9oiaN9-I--I4Ivn1eRDGXB7IG6YYX1nlj37hllk\u001b[0m\n",
            "/usr/bin/xdg-open: 851: /usr/bin/xdg-open: www-browser: not found\n",
            "/usr/bin/xdg-open: 851: /usr/bin/xdg-open: links2: not found\n",
            "/usr/bin/xdg-open: 851: /usr/bin/xdg-open: elinks: not found\n",
            "/usr/bin/xdg-open: 851: /usr/bin/xdg-open: links: not found\n",
            "/usr/bin/xdg-open: 851: /usr/bin/xdg-open: lynx: not found\n",
            "/usr/bin/xdg-open: 851: /usr/bin/xdg-open: w3m: not found\n",
            "xdg-open: no method available for opening 'https://api.aicrowd.com/auth/wtHm9oiaN9-I--I4Ivn1eRDGXB7IG6YYX1nlj37hllk'\n",
            "\u001b[32mAPI Key valid\u001b[0m\n",
            "\u001b[32mGitlab access token valid\u001b[0m\n",
            "\u001b[32mSaved details successfully!\u001b[0m\n"
          ]
        }
      ],
      "source": [
        "!aicrowd login"
      ]
    },
    {
      "cell_type": "code",
      "execution_count": null,
      "metadata": {
        "colab": {
          "base_uri": "https://localhost:8080/"
        },
        "id": "uy1kf4nlRnyI",
        "outputId": "3c9c08b5-2687-4c2a-b14d-1fc840484c25"
      },
      "outputs": [
        {
          "name": "stdout",
          "output_type": "stream",
          "text": [
            "product_catalogue-v0.3.csv.zip: 100% 328M/328M [00:16<00:00, 20.1MB/s]\n",
            "sample_submission_public-v0.3.csv.zip: 100% 331k/331k [00:00<00:00, 587kB/s]\n",
            "test_public-v0.3.csv.zip: 100% 394k/394k [00:00<00:00, 690kB/s]\n",
            "train-v0.3.csv.zip: 100% 6.80M/6.80M [00:01<00:00, 5.95MB/s]\n",
            "product_catalogue-v0.3.csv.zip: 100% 657M/657M [00:31<00:00, 21.1MB/s]\n",
            "sample_submission_public-v0.3.csv.zip: 100% 812k/812k [00:00<00:00, 1.15MB/s]\n",
            "test_public-v0.3.csv.zip: 100% 2.94M/2.94M [00:01<00:00, 2.94MB/s]\n",
            "train-v0.3.csv.zip: 100% 19.8M/19.8M [00:01<00:00, 11.4MB/s]\n",
            "product_catalogue-v0.3.csv.zip: 100% 657M/657M [00:42<00:00, 15.5MB/s]\n",
            "sample_submission_public-v0.3.csv.zip: 100% 803k/803k [00:00<00:00, 1.12MB/s]\n",
            "test_public-v0.3.csv.zip: 100% 2.94M/2.94M [00:00<00:00, 2.97MB/s]\n",
            "train-v0.3.csv.zip: 100% 20.3M/20.3M [00:01<00:00, 10.9MB/s]\n"
          ]
        }
      ],
      "source": [
        "!aicrowd dataset download -c esci-challenge-for-improving-product-search"
      ]
    },
    {
      "cell_type": "code",
      "execution_count": null,
      "metadata": {
        "colab": {
          "base_uri": "https://localhost:8080/"
        },
        "id": "pDg69tTsUlPv",
        "outputId": "0247336a-a161-4e8f-a555-016a234eb01e"
      },
      "outputs": [
        {
          "name": "stdout",
          "output_type": "stream",
          "text": [
            "Archive:  /content/product_catalogue-v0.3.csv.zip\n",
            "  inflating: /content/dataset/data/processed/public/task_3_product_substitute_identification/product_catalogue-v0.3.csv  \n"
          ]
        }
      ],
      "source": [
        "!unzip \"/content/product_catalogue-v0.3.csv.zip\" -d \"/content/dataset/\""
      ]
    },
    {
      "cell_type": "code",
      "execution_count": null,
      "metadata": {
        "id": "LEodr5PVUlWm"
      },
      "outputs": [],
      "source": [
        "filepath='/content/dataset/data/processed/public/task_3_product_substitute_identification/product_catalogue-v0.3.csv'"
      ]
    },
    {
      "cell_type": "code",
      "execution_count": null,
      "metadata": {
        "id": "EPiU6rQZUM10"
      },
      "outputs": [],
      "source": [
        "import pandas as pd\n",
        "\n",
        "df = pd.read_csv(filepath)\n"
      ]
    },
    {
      "cell_type": "code",
      "execution_count": null,
      "metadata": {
        "colab": {
          "base_uri": "https://localhost:8080/"
        },
        "id": "M3xcT3ReoYy1",
        "outputId": "e5567f4a-9a87-41e7-fc58-655b7e5e957a"
      },
      "outputs": [
        {
          "data": {
            "text/plain": [
              "1815216"
            ]
          },
          "execution_count": 14,
          "metadata": {},
          "output_type": "execute_result"
        }
      ],
      "source": [
        "len(df)"
      ]
    },
    {
      "cell_type": "code",
      "execution_count": null,
      "metadata": {
        "colab": {
          "base_uri": "https://localhost:8080/",
          "height": 10891
        },
        "id": "6AEeOkBQkZBu",
        "outputId": "005492fc-5293-4e3d-cc78-9622b6e57f32"
      },
      "outputs": [
        {
          "data": {
            "text/html": [
              "\n",
              "  <div id=\"df-ad9d6df6-5366-4000-8cdf-ef5b2adf5d4f\">\n",
              "    <div class=\"colab-df-container\">\n",
              "      <div>\n",
              "<style scoped>\n",
              "    .dataframe tbody tr th:only-of-type {\n",
              "        vertical-align: middle;\n",
              "    }\n",
              "\n",
              "    .dataframe tbody tr th {\n",
              "        vertical-align: top;\n",
              "    }\n",
              "\n",
              "    .dataframe thead th {\n",
              "        text-align: right;\n",
              "    }\n",
              "</style>\n",
              "<table border=\"1\" class=\"dataframe\">\n",
              "  <thead>\n",
              "    <tr style=\"text-align: right;\">\n",
              "      <th></th>\n",
              "      <th>product_id</th>\n",
              "      <th>product_title</th>\n",
              "      <th>product_description</th>\n",
              "      <th>product_bullet_point</th>\n",
              "      <th>product_brand</th>\n",
              "      <th>product_color_name</th>\n",
              "      <th>product_locale</th>\n",
              "    </tr>\n",
              "  </thead>\n",
              "  <tbody>\n",
              "    <tr>\n",
              "      <th>1600000</th>\n",
              "      <td>B07RK154DV</td>\n",
              "      <td>Stemless Wine Tumbler with Lid and Straw, Bast...</td>\n",
              "      <td>&lt;b&gt;Bastwe 4 Pack 12oz Vacuum Insulated Wine Tu...</td>\n",
              "      <td>💥 Food Grade Stainless Steel: The wine glass i...</td>\n",
              "      <td>Bastwe</td>\n",
              "      <td>Black</td>\n",
              "      <td>us</td>\n",
              "    </tr>\n",
              "    <tr>\n",
              "      <th>1600001</th>\n",
              "      <td>B07T3SLJQ7</td>\n",
              "      <td>PURECUP 12 oz Wine Tumbler With Spill-proof Li...</td>\n",
              "      <td>&lt;b&gt;Specification:&lt;/b&gt;&lt;br&gt;*Designs: Stainless W...</td>\n",
              "      <td>12OZ insulated stainless stell wine glasses wi...</td>\n",
              "      <td>PURECUP</td>\n",
              "      <td>Aqua Blue</td>\n",
              "      <td>us</td>\n",
              "    </tr>\n",
              "    <tr>\n",
              "      <th>1600002</th>\n",
              "      <td>B07TF6JXSG</td>\n",
              "      <td>Comfook Glass Bulk Set Wine Cups Glasses with ...</td>\n",
              "      <td>NaN</td>\n",
              "      <td>For Any Occasion: 12 oz glass is in a beautifu...</td>\n",
              "      <td>Comfook</td>\n",
              "      <td>Multicolor B</td>\n",
              "      <td>us</td>\n",
              "    </tr>\n",
              "    <tr>\n",
              "      <th>1600003</th>\n",
              "      <td>B07VH1XG7J</td>\n",
              "      <td>Deitybless 6 Pack 12 oz Stainless Steel Wine T...</td>\n",
              "      <td>Deitybless pack wine tumbler cup with lids 12 ...</td>\n",
              "      <td>【HIGHT QUALITY】The wine tumbler is made of goo...</td>\n",
              "      <td>Deitybless</td>\n",
              "      <td>Assorted Colors_6 pack(with straws)</td>\n",
              "      <td>us</td>\n",
              "    </tr>\n",
              "    <tr>\n",
              "      <th>1600004</th>\n",
              "      <td>B0822R1N1K</td>\n",
              "      <td>Vacuum Insulated Wine Tumbler with Sliding Lid...</td>\n",
              "      <td>&lt;b&gt;LEVIN Vacuum Insulated Wine Tumbler with Sl...</td>\n",
              "      <td>【Preserve the Most Wanted Temp &amp; Flavour】 Adop...</td>\n",
              "      <td>LEVIN</td>\n",
              "      <td>Black</td>\n",
              "      <td>us</td>\n",
              "    </tr>\n",
              "    <tr>\n",
              "      <th>1600005</th>\n",
              "      <td>B082SC54BP</td>\n",
              "      <td>MUCHENGHY 12 oz Wine Glass Tumbler Bulk with L...</td>\n",
              "      <td>&lt;p&gt;Mucheng Vacuum Insulated Wine Tumbler with ...</td>\n",
              "      <td>【GIVE AS A PRESENT TO COMMEMORATE!】 It's strik...</td>\n",
              "      <td>MUCHENGHY</td>\n",
              "      <td>Rose Gold</td>\n",
              "      <td>us</td>\n",
              "    </tr>\n",
              "    <tr>\n",
              "      <th>1600006</th>\n",
              "      <td>B01M71BZD9</td>\n",
              "      <td>Yedi 9-in-1 Total Package Instant Programmable...</td>\n",
              "      <td>NaN</td>\n",
              "      <td>OPRAH’S FAVORITE THINGS: The Yedi 9-in-1 Total...</td>\n",
              "      <td>YEDI HOUSEWARE</td>\n",
              "      <td>Stainless Steel</td>\n",
              "      <td>us</td>\n",
              "    </tr>\n",
              "    <tr>\n",
              "      <th>1600007</th>\n",
              "      <td>B01NBKTPTS</td>\n",
              "      <td>Instant Pot Duo Plus 6 Quart 9-in-1 Electric P...</td>\n",
              "      <td>NaN</td>\n",
              "      <td>SIMPLE, STRESS-FREE VENTING with an intuitive ...</td>\n",
              "      <td>Instant Pot</td>\n",
              "      <td>Stainless Steel/Black</td>\n",
              "      <td>us</td>\n",
              "    </tr>\n",
              "    <tr>\n",
              "      <th>1600008</th>\n",
              "      <td>B0777XQ4S8</td>\n",
              "      <td>Instant Pot Smart Wifi 6 Quart Multi-use Elect...</td>\n",
              "      <td>NaN</td>\n",
              "      <td>Cooks fast and saves time: The Instant Pot Sma...</td>\n",
              "      <td>Instant Pot</td>\n",
              "      <td>Silver</td>\n",
              "      <td>us</td>\n",
              "    </tr>\n",
              "    <tr>\n",
              "      <th>1600009</th>\n",
              "      <td>B077T9YGRM</td>\n",
              "      <td>Instant Pot Max 6 Quart Multi-use Electric Pre...</td>\n",
              "      <td>NaN</td>\n",
              "      <td>Sustained 15psi, not only cooks food faster, y...</td>\n",
              "      <td>Instant Pot</td>\n",
              "      <td>Silver</td>\n",
              "      <td>us</td>\n",
              "    </tr>\n",
              "    <tr>\n",
              "      <th>1600010</th>\n",
              "      <td>B07LDJD3X5</td>\n",
              "      <td>Instant Pot 8 QT Viva 9-in-1 Multi-Use Program...</td>\n",
              "      <td>Instant Pot Viva 9 in 1 / New Product</td>\n",
              "      <td>INSTANT POT\\nPressure Cooker</td>\n",
              "      <td>Instant Pot</td>\n",
              "      <td>NaN</td>\n",
              "      <td>us</td>\n",
              "    </tr>\n",
              "    <tr>\n",
              "      <th>1600011</th>\n",
              "      <td>B07R4TMNXK</td>\n",
              "      <td>prepAmeal 6QT 8 IN 1 Pressure Cooker MultiUse ...</td>\n",
              "      <td>&lt;b&gt;There Pressure Settings&lt;/b&gt;&lt;br&gt; For fast an...</td>\n",
              "      <td>8-IN-1 Multi-Functional Pot : 1 Electric Press...</td>\n",
              "      <td>prepAmeal</td>\n",
              "      <td>6 Quart</td>\n",
              "      <td>us</td>\n",
              "    </tr>\n",
              "    <tr>\n",
              "      <th>1600012</th>\n",
              "      <td>B07VT23JDM</td>\n",
              "      <td>Instant Pot Duo Crisp 11-in-1 Electric Pressur...</td>\n",
              "      <td>NaN</td>\n",
              "      <td>11-IN-1 FUNCTIONALITY: Air fry, roast, bake, d...</td>\n",
              "      <td>Instant Pot</td>\n",
              "      <td>Black/Stainless Steel</td>\n",
              "      <td>us</td>\n",
              "    </tr>\n",
              "    <tr>\n",
              "      <th>1600013</th>\n",
              "      <td>B07WLJN9YZ</td>\n",
              "      <td>Nuwave Nutri-Pot 13Qt Pressure Cooker</td>\n",
              "      <td>Make a hearty beef stew in this Nutri-Pot digi...</td>\n",
              "      <td>EVERYTHING YOU NEED- Your 13Q NutriPot Digital...</td>\n",
              "      <td>NuWave</td>\n",
              "      <td>NaN</td>\n",
              "      <td>us</td>\n",
              "    </tr>\n",
              "    <tr>\n",
              "      <th>1600014</th>\n",
              "      <td>B087NSG5XB</td>\n",
              "      <td>The Pioneer Woman Instant Pot DUO60 6-Quart Fr...</td>\n",
              "      <td>SA</td>\n",
              "      <td>NaN</td>\n",
              "      <td>BATEMEN W</td>\n",
              "      <td>11.28-WDBGM-1754</td>\n",
              "      <td>us</td>\n",
              "    </tr>\n",
              "    <tr>\n",
              "      <th>1600015</th>\n",
              "      <td>B08SRS4TW2</td>\n",
              "      <td>Instant Pot Ultra 10-in-1 Electric Pressure Co...</td>\n",
              "      <td>NaN</td>\n",
              "      <td>Product 1: For large families, 6+ people. Item...</td>\n",
              "      <td>Instant Pot</td>\n",
              "      <td>NaN</td>\n",
              "      <td>us</td>\n",
              "    </tr>\n",
              "    <tr>\n",
              "      <th>1600016</th>\n",
              "      <td>B091CYX72J</td>\n",
              "      <td>Tezam Reusable Air Fryer Liners – 7.5 Inch Squ...</td>\n",
              "      <td>&lt;b&gt;Features:&lt;/b&gt;&lt;br&gt;&lt;p&gt; 1) 100% Reusable, Non-...</td>\n",
              "      <td>NEW RELEASE! SAVE MONEY ON PARCHMENT PAPER or ...</td>\n",
              "      <td>Tezam</td>\n",
              "      <td>NaN</td>\n",
              "      <td>us</td>\n",
              "    </tr>\n",
              "    <tr>\n",
              "      <th>1600017</th>\n",
              "      <td>0887276407</td>\n",
              "      <td>Integrated Chinese Level 1 Part 1 Workbook: Si...</td>\n",
              "      <td>NaN</td>\n",
              "      <td>Used Book in Good Condition</td>\n",
              "      <td>Brand: Cheng Tsui</td>\n",
              "      <td>NaN</td>\n",
              "      <td>us</td>\n",
              "    </tr>\n",
              "    <tr>\n",
              "      <th>1600018</th>\n",
              "      <td>0887276938</td>\n",
              "      <td>Reading Into a New China: Integrated Skills fo...</td>\n",
              "      <td>NaN</td>\n",
              "      <td>Used Book in Good Condition</td>\n",
              "      <td>Brand: Cheng Tsui</td>\n",
              "      <td>NaN</td>\n",
              "      <td>us</td>\n",
              "    </tr>\n",
              "    <tr>\n",
              "      <th>1600019</th>\n",
              "      <td>0976998130</td>\n",
              "      <td>Japanese From Zero! 3: Proven Techniques to Le...</td>\n",
              "      <td>NaN</td>\n",
              "      <td>Used Book in Good Condition</td>\n",
              "      <td>YesJapan Corporation</td>\n",
              "      <td>NaN</td>\n",
              "      <td>us</td>\n",
              "    </tr>\n",
              "    <tr>\n",
              "      <th>1600020</th>\n",
              "      <td>0989654524</td>\n",
              "      <td>Korean From Zero! 1: Master the Korean Languag...</td>\n",
              "      <td>NaN</td>\n",
              "      <td>Yesjapan Corporation</td>\n",
              "      <td>YesJapan Corporation</td>\n",
              "      <td>NaN</td>\n",
              "      <td>us</td>\n",
              "    </tr>\n",
              "    <tr>\n",
              "      <th>1600021</th>\n",
              "      <td>1091714746</td>\n",
              "      <td>First Chinese Characters Book Easy Practice Wr...</td>\n",
              "      <td>NaN</td>\n",
              "      <td>NaN</td>\n",
              "      <td>Independently Published</td>\n",
              "      <td>NaN</td>\n",
              "      <td>us</td>\n",
              "    </tr>\n",
              "    <tr>\n",
              "      <th>1600022</th>\n",
              "      <td>1622911318</td>\n",
              "      <td>Integrated Chinese 4th Edition, Volume 1 Workb...</td>\n",
              "      <td>NaN</td>\n",
              "      <td>NaN</td>\n",
              "      <td>NaN</td>\n",
              "      <td>NaN</td>\n",
              "      <td>us</td>\n",
              "    </tr>\n",
              "    <tr>\n",
              "      <th>1600023</th>\n",
              "      <td>1622911350</td>\n",
              "      <td>Integrated Chinese 4th Edition, Volume 1 Textb...</td>\n",
              "      <td>NaN</td>\n",
              "      <td>NaN</td>\n",
              "      <td>NaN</td>\n",
              "      <td>NaN</td>\n",
              "      <td>us</td>\n",
              "    </tr>\n",
              "    <tr>\n",
              "      <th>1600024</th>\n",
              "      <td>1622911369</td>\n",
              "      <td>Integrated Chinese 4th Edition, Volume 1 Workb...</td>\n",
              "      <td>NaN</td>\n",
              "      <td>NaN</td>\n",
              "      <td>NaN</td>\n",
              "      <td>NaN</td>\n",
              "      <td>us</td>\n",
              "    </tr>\n",
              "    <tr>\n",
              "      <th>1600025</th>\n",
              "      <td>1622911377</td>\n",
              "      <td>Integrated Chinese 4th Edition, Volume 1 Chara...</td>\n",
              "      <td>NaN</td>\n",
              "      <td>NaN</td>\n",
              "      <td>NaN</td>\n",
              "      <td>NaN</td>\n",
              "      <td>us</td>\n",
              "    </tr>\n",
              "    <tr>\n",
              "      <th>1600026</th>\n",
              "      <td>1622911415</td>\n",
              "      <td>Integrated Chinese 2 Textbook Simplified (Chin...</td>\n",
              "      <td>NaN</td>\n",
              "      <td>NaN</td>\n",
              "      <td>NaN</td>\n",
              "      <td>NaN</td>\n",
              "      <td>us</td>\n",
              "    </tr>\n",
              "    <tr>\n",
              "      <th>1600027</th>\n",
              "      <td>1622911512</td>\n",
              "      <td>Integrated Chinese Textbook Vol 4 (English and...</td>\n",
              "      <td>NaN</td>\n",
              "      <td>NaN</td>\n",
              "      <td>NaN</td>\n",
              "      <td>NaN</td>\n",
              "      <td>us</td>\n",
              "    </tr>\n",
              "    <tr>\n",
              "      <th>1600028</th>\n",
              "      <td>1622911563</td>\n",
              "      <td>Integrated Chinese Volume 3 Textbook, 4th edit...</td>\n",
              "      <td>NaN</td>\n",
              "      <td>NaN</td>\n",
              "      <td>NaN</td>\n",
              "      <td>NaN</td>\n",
              "      <td>us</td>\n",
              "    </tr>\n",
              "    <tr>\n",
              "      <th>1600029</th>\n",
              "      <td>1622911571</td>\n",
              "      <td>Integrated Chinese 3 Workbook, 4th edition (En...</td>\n",
              "      <td>NaN</td>\n",
              "      <td>NaN</td>\n",
              "      <td>NaN</td>\n",
              "      <td>NaN</td>\n",
              "      <td>us</td>\n",
              "    </tr>\n",
              "    <tr>\n",
              "      <th>1600030</th>\n",
              "      <td>478901441X</td>\n",
              "      <td>Genki: An Integrated Course in Elementary Japa...</td>\n",
              "      <td>NaN</td>\n",
              "      <td>◆Second edition of the most highly regarded te...</td>\n",
              "      <td>Japan Times</td>\n",
              "      <td>NaN</td>\n",
              "      <td>us</td>\n",
              "    </tr>\n",
              "    <tr>\n",
              "      <th>1600031</th>\n",
              "      <td>4883196070</td>\n",
              "      <td>Minna no Nihongo 2nd Edition Beginner vol.1 Bu...</td>\n",
              "      <td>NaN</td>\n",
              "      <td>NaN</td>\n",
              "      <td>3A CORPORATION</td>\n",
              "      <td>NaN</td>\n",
              "      <td>us</td>\n",
              "    </tr>\n",
              "    <tr>\n",
              "      <th>1600032</th>\n",
              "      <td>B07ZH25X3N</td>\n",
              "      <td>Advanced Hematology in Integrated Cardiovascul...</td>\n",
              "      <td>&lt;p&gt;&lt;i&gt;Advanced Hematology in Integrative Cardi...</td>\n",
              "      <td>NaN</td>\n",
              "      <td>NaN</td>\n",
              "      <td>NaN</td>\n",
              "      <td>us</td>\n",
              "    </tr>\n",
              "    <tr>\n",
              "      <th>1600033</th>\n",
              "      <td>B073XGDFY9</td>\n",
              "      <td>Intel Xeon Gold 5120 Tray Processor</td>\n",
              "      <td>Intel 2.2GHz Xeon Gold 5120 14-core FCLGA3647 ...</td>\n",
              "      <td>NaN</td>\n",
              "      <td>Intel</td>\n",
              "      <td>NaN</td>\n",
              "      <td>us</td>\n",
              "    </tr>\n",
              "    <tr>\n",
              "      <th>1600034</th>\n",
              "      <td>B073XGST2Q</td>\n",
              "      <td>Intel Xeon Gold 5118 Tray Processor</td>\n",
              "      <td>Processors</td>\n",
              "      <td>Processors</td>\n",
              "      <td>Intel</td>\n",
              "      <td>gold</td>\n",
              "      <td>us</td>\n",
              "    </tr>\n",
              "    <tr>\n",
              "      <th>1600035</th>\n",
              "      <td>B0793BQS3R</td>\n",
              "      <td>Intel Pentium Gold G5400 Desktop Processor 2 C...</td>\n",
              "      <td>INTEL BX80684G5400</td>\n",
              "      <td>BX80684G5400\\nINTEL</td>\n",
              "      <td>Intel</td>\n",
              "      <td>Gold</td>\n",
              "      <td>us</td>\n",
              "    </tr>\n",
              "    <tr>\n",
              "      <th>1600036</th>\n",
              "      <td>B07R6XPQYB</td>\n",
              "      <td>Intel Xeon Gold 5218 Tray Processor 16 Core 2....</td>\n",
              "      <td>Intel Xeon Gold processors offer high performa...</td>\n",
              "      <td>Intel Xeon Gold processors offer high performa...</td>\n",
              "      <td>Intel OEM Tray Processors</td>\n",
              "      <td>NaN</td>\n",
              "      <td>us</td>\n",
              "    </tr>\n",
              "    <tr>\n",
              "      <th>1600037</th>\n",
              "      <td>B07RC9FD97</td>\n",
              "      <td>Intel Xeon Gold 5222 Tray Processor 4 Core 3.8...</td>\n",
              "      <td>NaN</td>\n",
              "      <td>NaN</td>\n",
              "      <td>Intel OEM Tray Processors</td>\n",
              "      <td>NaN</td>\n",
              "      <td>us</td>\n",
              "    </tr>\n",
              "    <tr>\n",
              "      <th>1600038</th>\n",
              "      <td>B07SBKXDNS</td>\n",
              "      <td>Intel Pentium Gold G5420 Desktop Processor 2 C...</td>\n",
              "      <td>NaN</td>\n",
              "      <td>2 Cores /4 Threads\\n3.8 GHz\\nCompatible with I...</td>\n",
              "      <td>Intel</td>\n",
              "      <td>NaN</td>\n",
              "      <td>us</td>\n",
              "    </tr>\n",
              "    <tr>\n",
              "      <th>1600039</th>\n",
              "      <td>B07SLSGBJP</td>\n",
              "      <td>Intel Pentium Gold G5420 Dual Core 3.8GHz LGA ...</td>\n",
              "      <td>Intel Pentium Gold G5420 Processor (4MB Cache,...</td>\n",
              "      <td>3.8GHz processor speed\\nDual Core desktop proc...</td>\n",
              "      <td>Intel</td>\n",
              "      <td>NaN</td>\n",
              "      <td>us</td>\n",
              "    </tr>\n",
              "    <tr>\n",
              "      <th>1600040</th>\n",
              "      <td>B07SZ9TPW7</td>\n",
              "      <td>Intel Xeon Gold 6254 Processor 18 Core 3.10GHZ...</td>\n",
              "      <td>Intel Xeon Gold 6254 Processor | 18-Core, 36 T...</td>\n",
              "      <td>Intel Xeon Gold 6254 Processor\\n18-Core, 36 Th...</td>\n",
              "      <td>Intel OEM Tray Processors</td>\n",
              "      <td>NaN</td>\n",
              "      <td>us</td>\n",
              "    </tr>\n",
              "    <tr>\n",
              "      <th>1600041</th>\n",
              "      <td>B0857MBSD4</td>\n",
              "      <td>INTEL INTEL XEON Gold 6246R Processor (35.75M ...</td>\n",
              "      <td>INTEL reg; XEON reg; GOLD PROCESSORS With supp...</td>\n",
              "      <td>W126171725</td>\n",
              "      <td>Intel</td>\n",
              "      <td>NaN</td>\n",
              "      <td>us</td>\n",
              "    </tr>\n",
              "    <tr>\n",
              "      <th>1600042</th>\n",
              "      <td>B0858CVWK4</td>\n",
              "      <td>INTEL INTEL XEON Gold 6240R Processor (35.75M ...</td>\n",
              "      <td>INTEL reg; XEON reg; GOLD PROCESSORS With supp...</td>\n",
              "      <td>W126171723</td>\n",
              "      <td>Intel</td>\n",
              "      <td>NaN</td>\n",
              "      <td>us</td>\n",
              "    </tr>\n",
              "    <tr>\n",
              "      <th>1600043</th>\n",
              "      <td>B086K4V42L</td>\n",
              "      <td>Intel XEON Gold 6226R Processor 16 CORE 2.90GH...</td>\n",
              "      <td>INTEL XEON GOLD PROCESSORS With support for th...</td>\n",
              "      <td>INTEL XEON GOLD PROCESSORS With support for th...</td>\n",
              "      <td>Intel OEM Tray Processors</td>\n",
              "      <td>NaN</td>\n",
              "      <td>us</td>\n",
              "    </tr>\n",
              "    <tr>\n",
              "      <th>1600044</th>\n",
              "      <td>B086MGYKXM</td>\n",
              "      <td>Intel Pentium Gold G-6500 Desktop Processor 2 ...</td>\n",
              "      <td>NaN</td>\n",
              "      <td>2 Cores / 4 Threads\\nSocket Type LGA 1200\\nCom...</td>\n",
              "      <td>Intel</td>\n",
              "      <td>NaN</td>\n",
              "      <td>us</td>\n",
              "    </tr>\n",
              "    <tr>\n",
              "      <th>1600045</th>\n",
              "      <td>B086MHSH2Z</td>\n",
              "      <td>Intel Pentium Gold G-6400 Desktop Processor 2 ...</td>\n",
              "      <td>NaN</td>\n",
              "      <td>2 Cores / 4 Threads\\nSocket Type LGA 1200\\nCom...</td>\n",
              "      <td>Intel</td>\n",
              "      <td>NaN</td>\n",
              "      <td>us</td>\n",
              "    </tr>\n",
              "    <tr>\n",
              "      <th>1600046</th>\n",
              "      <td>B08M9BS284</td>\n",
              "      <td>Intel Xeon Gold 6140 SR3AX 18-Core 2.3GHz 24.7...</td>\n",
              "      <td>Intel Xeon Gold 6140 SR3AX 18-Core 2.3GHz 24.7...</td>\n",
              "      <td>18 Cores, 36 Cores in Hyperthreading mode\\n2.3...</td>\n",
              "      <td>Intel</td>\n",
              "      <td>NaN</td>\n",
              "      <td>us</td>\n",
              "    </tr>\n",
              "    <tr>\n",
              "      <th>1600047</th>\n",
              "      <td>B08ML8J37K</td>\n",
              "      <td>Intel Xeon Gold 6130 SR3B9 16-Core 2.1GHz 22MB...</td>\n",
              "      <td>Intel Xeon Gold 6130 SR3B9 16-Core 2.1GHz 22.0...</td>\n",
              "      <td>16 Cores, 32 Cores in Hyperthreading mode\\n2.1...</td>\n",
              "      <td>Intel</td>\n",
              "      <td>NaN</td>\n",
              "      <td>us</td>\n",
              "    </tr>\n",
              "    <tr>\n",
              "      <th>1600048</th>\n",
              "      <td>B091TXJN41</td>\n",
              "      <td>Intel Pentium Gold G6405 4.1GHz 4MB Desktop Pr...</td>\n",
              "      <td>Intel® Pentium® Processors Discover new comput...</td>\n",
              "      <td>Processor Manufacturer: Intel\\nProcessor Core:...</td>\n",
              "      <td>Intel</td>\n",
              "      <td>NaN</td>\n",
              "      <td>us</td>\n",
              "    </tr>\n",
              "    <tr>\n",
              "      <th>1600049</th>\n",
              "      <td>B0019K9OWA</td>\n",
              "      <td>iDesign Axis Over the Cabinet 2-Tier Kitchen S...</td>\n",
              "      <td>NaN</td>\n",
              "      <td>OVER THE CABINET STORAGE: Wire over the cabine...</td>\n",
              "      <td>iDesign</td>\n",
              "      <td>Two Tier</td>\n",
              "      <td>us</td>\n",
              "    </tr>\n",
              "  </tbody>\n",
              "</table>\n",
              "</div>\n",
              "      <button class=\"colab-df-convert\" onclick=\"convertToInteractive('df-ad9d6df6-5366-4000-8cdf-ef5b2adf5d4f')\"\n",
              "              title=\"Convert this dataframe to an interactive table.\"\n",
              "              style=\"display:none;\">\n",
              "        \n",
              "  <svg xmlns=\"http://www.w3.org/2000/svg\" height=\"24px\"viewBox=\"0 0 24 24\"\n",
              "       width=\"24px\">\n",
              "    <path d=\"M0 0h24v24H0V0z\" fill=\"none\"/>\n",
              "    <path d=\"M18.56 5.44l.94 2.06.94-2.06 2.06-.94-2.06-.94-.94-2.06-.94 2.06-2.06.94zm-11 1L8.5 8.5l.94-2.06 2.06-.94-2.06-.94L8.5 2.5l-.94 2.06-2.06.94zm10 10l.94 2.06.94-2.06 2.06-.94-2.06-.94-.94-2.06-.94 2.06-2.06.94z\"/><path d=\"M17.41 7.96l-1.37-1.37c-.4-.4-.92-.59-1.43-.59-.52 0-1.04.2-1.43.59L10.3 9.45l-7.72 7.72c-.78.78-.78 2.05 0 2.83L4 21.41c.39.39.9.59 1.41.59.51 0 1.02-.2 1.41-.59l7.78-7.78 2.81-2.81c.8-.78.8-2.07 0-2.86zM5.41 20L4 18.59l7.72-7.72 1.47 1.35L5.41 20z\"/>\n",
              "  </svg>\n",
              "      </button>\n",
              "      \n",
              "  <style>\n",
              "    .colab-df-container {\n",
              "      display:flex;\n",
              "      flex-wrap:wrap;\n",
              "      gap: 12px;\n",
              "    }\n",
              "\n",
              "    .colab-df-convert {\n",
              "      background-color: #E8F0FE;\n",
              "      border: none;\n",
              "      border-radius: 50%;\n",
              "      cursor: pointer;\n",
              "      display: none;\n",
              "      fill: #1967D2;\n",
              "      height: 32px;\n",
              "      padding: 0 0 0 0;\n",
              "      width: 32px;\n",
              "    }\n",
              "\n",
              "    .colab-df-convert:hover {\n",
              "      background-color: #E2EBFA;\n",
              "      box-shadow: 0px 1px 2px rgba(60, 64, 67, 0.3), 0px 1px 3px 1px rgba(60, 64, 67, 0.15);\n",
              "      fill: #174EA6;\n",
              "    }\n",
              "\n",
              "    [theme=dark] .colab-df-convert {\n",
              "      background-color: #3B4455;\n",
              "      fill: #D2E3FC;\n",
              "    }\n",
              "\n",
              "    [theme=dark] .colab-df-convert:hover {\n",
              "      background-color: #434B5C;\n",
              "      box-shadow: 0px 1px 3px 1px rgba(0, 0, 0, 0.15);\n",
              "      filter: drop-shadow(0px 1px 2px rgba(0, 0, 0, 0.3));\n",
              "      fill: #FFFFFF;\n",
              "    }\n",
              "  </style>\n",
              "\n",
              "      <script>\n",
              "        const buttonEl =\n",
              "          document.querySelector('#df-ad9d6df6-5366-4000-8cdf-ef5b2adf5d4f button.colab-df-convert');\n",
              "        buttonEl.style.display =\n",
              "          google.colab.kernel.accessAllowed ? 'block' : 'none';\n",
              "\n",
              "        async function convertToInteractive(key) {\n",
              "          const element = document.querySelector('#df-ad9d6df6-5366-4000-8cdf-ef5b2adf5d4f');\n",
              "          const dataTable =\n",
              "            await google.colab.kernel.invokeFunction('convertToInteractive',\n",
              "                                                     [key], {});\n",
              "          if (!dataTable) return;\n",
              "\n",
              "          const docLinkHtml = 'Like what you see? Visit the ' +\n",
              "            '<a target=\"_blank\" href=https://colab.research.google.com/notebooks/data_table.ipynb>data table notebook</a>'\n",
              "            + ' to learn more about interactive tables.';\n",
              "          element.innerHTML = '';\n",
              "          dataTable['output_type'] = 'display_data';\n",
              "          await google.colab.output.renderOutput(dataTable, element);\n",
              "          const docLink = document.createElement('div');\n",
              "          docLink.innerHTML = docLinkHtml;\n",
              "          element.appendChild(docLink);\n",
              "        }\n",
              "      </script>\n",
              "    </div>\n",
              "  </div>\n",
              "  "
            ],
            "text/plain": [
              "         product_id                                      product_title  \\\n",
              "1600000  B07RK154DV  Stemless Wine Tumbler with Lid and Straw, Bast...   \n",
              "1600001  B07T3SLJQ7  PURECUP 12 oz Wine Tumbler With Spill-proof Li...   \n",
              "1600002  B07TF6JXSG  Comfook Glass Bulk Set Wine Cups Glasses with ...   \n",
              "1600003  B07VH1XG7J  Deitybless 6 Pack 12 oz Stainless Steel Wine T...   \n",
              "1600004  B0822R1N1K  Vacuum Insulated Wine Tumbler with Sliding Lid...   \n",
              "1600005  B082SC54BP  MUCHENGHY 12 oz Wine Glass Tumbler Bulk with L...   \n",
              "1600006  B01M71BZD9  Yedi 9-in-1 Total Package Instant Programmable...   \n",
              "1600007  B01NBKTPTS  Instant Pot Duo Plus 6 Quart 9-in-1 Electric P...   \n",
              "1600008  B0777XQ4S8  Instant Pot Smart Wifi 6 Quart Multi-use Elect...   \n",
              "1600009  B077T9YGRM  Instant Pot Max 6 Quart Multi-use Electric Pre...   \n",
              "1600010  B07LDJD3X5  Instant Pot 8 QT Viva 9-in-1 Multi-Use Program...   \n",
              "1600011  B07R4TMNXK  prepAmeal 6QT 8 IN 1 Pressure Cooker MultiUse ...   \n",
              "1600012  B07VT23JDM  Instant Pot Duo Crisp 11-in-1 Electric Pressur...   \n",
              "1600013  B07WLJN9YZ              Nuwave Nutri-Pot 13Qt Pressure Cooker   \n",
              "1600014  B087NSG5XB  The Pioneer Woman Instant Pot DUO60 6-Quart Fr...   \n",
              "1600015  B08SRS4TW2  Instant Pot Ultra 10-in-1 Electric Pressure Co...   \n",
              "1600016  B091CYX72J  Tezam Reusable Air Fryer Liners – 7.5 Inch Squ...   \n",
              "1600017  0887276407  Integrated Chinese Level 1 Part 1 Workbook: Si...   \n",
              "1600018  0887276938  Reading Into a New China: Integrated Skills fo...   \n",
              "1600019  0976998130  Japanese From Zero! 3: Proven Techniques to Le...   \n",
              "1600020  0989654524  Korean From Zero! 1: Master the Korean Languag...   \n",
              "1600021  1091714746  First Chinese Characters Book Easy Practice Wr...   \n",
              "1600022  1622911318  Integrated Chinese 4th Edition, Volume 1 Workb...   \n",
              "1600023  1622911350  Integrated Chinese 4th Edition, Volume 1 Textb...   \n",
              "1600024  1622911369  Integrated Chinese 4th Edition, Volume 1 Workb...   \n",
              "1600025  1622911377  Integrated Chinese 4th Edition, Volume 1 Chara...   \n",
              "1600026  1622911415  Integrated Chinese 2 Textbook Simplified (Chin...   \n",
              "1600027  1622911512  Integrated Chinese Textbook Vol 4 (English and...   \n",
              "1600028  1622911563  Integrated Chinese Volume 3 Textbook, 4th edit...   \n",
              "1600029  1622911571  Integrated Chinese 3 Workbook, 4th edition (En...   \n",
              "1600030  478901441X  Genki: An Integrated Course in Elementary Japa...   \n",
              "1600031  4883196070  Minna no Nihongo 2nd Edition Beginner vol.1 Bu...   \n",
              "1600032  B07ZH25X3N  Advanced Hematology in Integrated Cardiovascul...   \n",
              "1600033  B073XGDFY9                Intel Xeon Gold 5120 Tray Processor   \n",
              "1600034  B073XGST2Q                Intel Xeon Gold 5118 Tray Processor   \n",
              "1600035  B0793BQS3R  Intel Pentium Gold G5400 Desktop Processor 2 C...   \n",
              "1600036  B07R6XPQYB  Intel Xeon Gold 5218 Tray Processor 16 Core 2....   \n",
              "1600037  B07RC9FD97  Intel Xeon Gold 5222 Tray Processor 4 Core 3.8...   \n",
              "1600038  B07SBKXDNS  Intel Pentium Gold G5420 Desktop Processor 2 C...   \n",
              "1600039  B07SLSGBJP  Intel Pentium Gold G5420 Dual Core 3.8GHz LGA ...   \n",
              "1600040  B07SZ9TPW7  Intel Xeon Gold 6254 Processor 18 Core 3.10GHZ...   \n",
              "1600041  B0857MBSD4  INTEL INTEL XEON Gold 6246R Processor (35.75M ...   \n",
              "1600042  B0858CVWK4  INTEL INTEL XEON Gold 6240R Processor (35.75M ...   \n",
              "1600043  B086K4V42L  Intel XEON Gold 6226R Processor 16 CORE 2.90GH...   \n",
              "1600044  B086MGYKXM  Intel Pentium Gold G-6500 Desktop Processor 2 ...   \n",
              "1600045  B086MHSH2Z  Intel Pentium Gold G-6400 Desktop Processor 2 ...   \n",
              "1600046  B08M9BS284  Intel Xeon Gold 6140 SR3AX 18-Core 2.3GHz 24.7...   \n",
              "1600047  B08ML8J37K  Intel Xeon Gold 6130 SR3B9 16-Core 2.1GHz 22MB...   \n",
              "1600048  B091TXJN41  Intel Pentium Gold G6405 4.1GHz 4MB Desktop Pr...   \n",
              "1600049  B0019K9OWA  iDesign Axis Over the Cabinet 2-Tier Kitchen S...   \n",
              "\n",
              "                                       product_description  \\\n",
              "1600000  <b>Bastwe 4 Pack 12oz Vacuum Insulated Wine Tu...   \n",
              "1600001  <b>Specification:</b><br>*Designs: Stainless W...   \n",
              "1600002                                                NaN   \n",
              "1600003  Deitybless pack wine tumbler cup with lids 12 ...   \n",
              "1600004  <b>LEVIN Vacuum Insulated Wine Tumbler with Sl...   \n",
              "1600005  <p>Mucheng Vacuum Insulated Wine Tumbler with ...   \n",
              "1600006                                                NaN   \n",
              "1600007                                                NaN   \n",
              "1600008                                                NaN   \n",
              "1600009                                                NaN   \n",
              "1600010              Instant Pot Viva 9 in 1 / New Product   \n",
              "1600011  <b>There Pressure Settings</b><br> For fast an...   \n",
              "1600012                                                NaN   \n",
              "1600013  Make a hearty beef stew in this Nutri-Pot digi...   \n",
              "1600014                                                 SA   \n",
              "1600015                                                NaN   \n",
              "1600016  <b>Features:</b><br><p> 1) 100% Reusable, Non-...   \n",
              "1600017                                                NaN   \n",
              "1600018                                                NaN   \n",
              "1600019                                                NaN   \n",
              "1600020                                                NaN   \n",
              "1600021                                                NaN   \n",
              "1600022                                                NaN   \n",
              "1600023                                                NaN   \n",
              "1600024                                                NaN   \n",
              "1600025                                                NaN   \n",
              "1600026                                                NaN   \n",
              "1600027                                                NaN   \n",
              "1600028                                                NaN   \n",
              "1600029                                                NaN   \n",
              "1600030                                                NaN   \n",
              "1600031                                                NaN   \n",
              "1600032  <p><i>Advanced Hematology in Integrative Cardi...   \n",
              "1600033  Intel 2.2GHz Xeon Gold 5120 14-core FCLGA3647 ...   \n",
              "1600034                                         Processors   \n",
              "1600035                                 INTEL BX80684G5400   \n",
              "1600036  Intel Xeon Gold processors offer high performa...   \n",
              "1600037                                                NaN   \n",
              "1600038                                                NaN   \n",
              "1600039  Intel Pentium Gold G5420 Processor (4MB Cache,...   \n",
              "1600040  Intel Xeon Gold 6254 Processor | 18-Core, 36 T...   \n",
              "1600041  INTEL reg; XEON reg; GOLD PROCESSORS With supp...   \n",
              "1600042  INTEL reg; XEON reg; GOLD PROCESSORS With supp...   \n",
              "1600043  INTEL XEON GOLD PROCESSORS With support for th...   \n",
              "1600044                                                NaN   \n",
              "1600045                                                NaN   \n",
              "1600046  Intel Xeon Gold 6140 SR3AX 18-Core 2.3GHz 24.7...   \n",
              "1600047  Intel Xeon Gold 6130 SR3B9 16-Core 2.1GHz 22.0...   \n",
              "1600048  Intel® Pentium® Processors Discover new comput...   \n",
              "1600049                                                NaN   \n",
              "\n",
              "                                      product_bullet_point  \\\n",
              "1600000  💥 Food Grade Stainless Steel: The wine glass i...   \n",
              "1600001  12OZ insulated stainless stell wine glasses wi...   \n",
              "1600002  For Any Occasion: 12 oz glass is in a beautifu...   \n",
              "1600003  【HIGHT QUALITY】The wine tumbler is made of goo...   \n",
              "1600004  【Preserve the Most Wanted Temp & Flavour】 Adop...   \n",
              "1600005  【GIVE AS A PRESENT TO COMMEMORATE!】 It's strik...   \n",
              "1600006  OPRAH’S FAVORITE THINGS: The Yedi 9-in-1 Total...   \n",
              "1600007  SIMPLE, STRESS-FREE VENTING with an intuitive ...   \n",
              "1600008  Cooks fast and saves time: The Instant Pot Sma...   \n",
              "1600009  Sustained 15psi, not only cooks food faster, y...   \n",
              "1600010                       INSTANT POT\\nPressure Cooker   \n",
              "1600011  8-IN-1 Multi-Functional Pot : 1 Electric Press...   \n",
              "1600012  11-IN-1 FUNCTIONALITY: Air fry, roast, bake, d...   \n",
              "1600013  EVERYTHING YOU NEED- Your 13Q NutriPot Digital...   \n",
              "1600014                                                NaN   \n",
              "1600015  Product 1: For large families, 6+ people. Item...   \n",
              "1600016  NEW RELEASE! SAVE MONEY ON PARCHMENT PAPER or ...   \n",
              "1600017                        Used Book in Good Condition   \n",
              "1600018                        Used Book in Good Condition   \n",
              "1600019                        Used Book in Good Condition   \n",
              "1600020                               Yesjapan Corporation   \n",
              "1600021                                                NaN   \n",
              "1600022                                                NaN   \n",
              "1600023                                                NaN   \n",
              "1600024                                                NaN   \n",
              "1600025                                                NaN   \n",
              "1600026                                                NaN   \n",
              "1600027                                                NaN   \n",
              "1600028                                                NaN   \n",
              "1600029                                                NaN   \n",
              "1600030  ◆Second edition of the most highly regarded te...   \n",
              "1600031                                                NaN   \n",
              "1600032                                                NaN   \n",
              "1600033                                                NaN   \n",
              "1600034                                         Processors   \n",
              "1600035                                BX80684G5400\\nINTEL   \n",
              "1600036  Intel Xeon Gold processors offer high performa...   \n",
              "1600037                                                NaN   \n",
              "1600038  2 Cores /4 Threads\\n3.8 GHz\\nCompatible with I...   \n",
              "1600039  3.8GHz processor speed\\nDual Core desktop proc...   \n",
              "1600040  Intel Xeon Gold 6254 Processor\\n18-Core, 36 Th...   \n",
              "1600041                                         W126171725   \n",
              "1600042                                         W126171723   \n",
              "1600043  INTEL XEON GOLD PROCESSORS With support for th...   \n",
              "1600044  2 Cores / 4 Threads\\nSocket Type LGA 1200\\nCom...   \n",
              "1600045  2 Cores / 4 Threads\\nSocket Type LGA 1200\\nCom...   \n",
              "1600046  18 Cores, 36 Cores in Hyperthreading mode\\n2.3...   \n",
              "1600047  16 Cores, 32 Cores in Hyperthreading mode\\n2.1...   \n",
              "1600048  Processor Manufacturer: Intel\\nProcessor Core:...   \n",
              "1600049  OVER THE CABINET STORAGE: Wire over the cabine...   \n",
              "\n",
              "                     product_brand                   product_color_name  \\\n",
              "1600000                     Bastwe                                Black   \n",
              "1600001                    PURECUP                            Aqua Blue   \n",
              "1600002                    Comfook                         Multicolor B   \n",
              "1600003                 Deitybless  Assorted Colors_6 pack(with straws)   \n",
              "1600004                      LEVIN                                Black   \n",
              "1600005                  MUCHENGHY                            Rose Gold   \n",
              "1600006             YEDI HOUSEWARE                      Stainless Steel   \n",
              "1600007                Instant Pot                Stainless Steel/Black   \n",
              "1600008                Instant Pot                               Silver   \n",
              "1600009                Instant Pot                               Silver   \n",
              "1600010                Instant Pot                                  NaN   \n",
              "1600011                  prepAmeal                              6 Quart   \n",
              "1600012                Instant Pot                Black/Stainless Steel   \n",
              "1600013                     NuWave                                  NaN   \n",
              "1600014                  BATEMEN W                     11.28-WDBGM-1754   \n",
              "1600015                Instant Pot                                  NaN   \n",
              "1600016                      Tezam                                  NaN   \n",
              "1600017          Brand: Cheng Tsui                                  NaN   \n",
              "1600018          Brand: Cheng Tsui                                  NaN   \n",
              "1600019       YesJapan Corporation                                  NaN   \n",
              "1600020       YesJapan Corporation                                  NaN   \n",
              "1600021    Independently Published                                  NaN   \n",
              "1600022                        NaN                                  NaN   \n",
              "1600023                        NaN                                  NaN   \n",
              "1600024                        NaN                                  NaN   \n",
              "1600025                        NaN                                  NaN   \n",
              "1600026                        NaN                                  NaN   \n",
              "1600027                        NaN                                  NaN   \n",
              "1600028                        NaN                                  NaN   \n",
              "1600029                        NaN                                  NaN   \n",
              "1600030                Japan Times                                  NaN   \n",
              "1600031             3A CORPORATION                                  NaN   \n",
              "1600032                        NaN                                  NaN   \n",
              "1600033                      Intel                                  NaN   \n",
              "1600034                      Intel                                 gold   \n",
              "1600035                      Intel                                 Gold   \n",
              "1600036  Intel OEM Tray Processors                                  NaN   \n",
              "1600037  Intel OEM Tray Processors                                  NaN   \n",
              "1600038                      Intel                                  NaN   \n",
              "1600039                      Intel                                  NaN   \n",
              "1600040  Intel OEM Tray Processors                                  NaN   \n",
              "1600041                      Intel                                  NaN   \n",
              "1600042                      Intel                                  NaN   \n",
              "1600043  Intel OEM Tray Processors                                  NaN   \n",
              "1600044                      Intel                                  NaN   \n",
              "1600045                      Intel                                  NaN   \n",
              "1600046                      Intel                                  NaN   \n",
              "1600047                      Intel                                  NaN   \n",
              "1600048                      Intel                                  NaN   \n",
              "1600049                    iDesign                             Two Tier   \n",
              "\n",
              "        product_locale  \n",
              "1600000             us  \n",
              "1600001             us  \n",
              "1600002             us  \n",
              "1600003             us  \n",
              "1600004             us  \n",
              "1600005             us  \n",
              "1600006             us  \n",
              "1600007             us  \n",
              "1600008             us  \n",
              "1600009             us  \n",
              "1600010             us  \n",
              "1600011             us  \n",
              "1600012             us  \n",
              "1600013             us  \n",
              "1600014             us  \n",
              "1600015             us  \n",
              "1600016             us  \n",
              "1600017             us  \n",
              "1600018             us  \n",
              "1600019             us  \n",
              "1600020             us  \n",
              "1600021             us  \n",
              "1600022             us  \n",
              "1600023             us  \n",
              "1600024             us  \n",
              "1600025             us  \n",
              "1600026             us  \n",
              "1600027             us  \n",
              "1600028             us  \n",
              "1600029             us  \n",
              "1600030             us  \n",
              "1600031             us  \n",
              "1600032             us  \n",
              "1600033             us  \n",
              "1600034             us  \n",
              "1600035             us  \n",
              "1600036             us  \n",
              "1600037             us  \n",
              "1600038             us  \n",
              "1600039             us  \n",
              "1600040             us  \n",
              "1600041             us  \n",
              "1600042             us  \n",
              "1600043             us  \n",
              "1600044             us  \n",
              "1600045             us  \n",
              "1600046             us  \n",
              "1600047             us  \n",
              "1600048             us  \n",
              "1600049             us  "
            ]
          },
          "execution_count": 17,
          "metadata": {},
          "output_type": "execute_result"
        }
      ],
      "source": [
        "df[1600000:1600050]"
      ]
    },
    {
      "cell_type": "code",
      "execution_count": null,
      "metadata": {
        "id": "44qa8hxykZEG"
      },
      "outputs": [],
      "source": [
        "class Transformer(tf.keras.Model):\n",
        "  def __init__(self,transformer):\n",
        "    super(Transformer,self).__init__()\n",
        "    self.transformer=transformer\n",
        "\n",
        "  def compile(self,loss_fn,optimizer):\n",
        "    super(Transformer,self).compile()\n",
        "    self.optimizer=optimizer\n",
        "    self.loss_fn=loss_fn\n",
        "    self.loss_metric=tf.keras.metrics.Mean(name='loss')\n",
        "\n",
        "  @property\n",
        "  def metrics(self):\n",
        "    return [self.loss_metric,]\n",
        "\n",
        "  def train_step(self,x_y):\n",
        "    inputs,target=x_y\n",
        "    encoder_input=inputs['input_1']\n",
        "    shifted_target=inputs['input_2']\n",
        "\n",
        "    with tf.GradientTape() as recorder:\n",
        "\n",
        "      output,_=self.transformer([encoder_input,shifted_target])\n",
        "      loss=self.loss_fn(target,output)\n",
        "\n",
        "    partial_derivatives = recorder.gradient(loss,self.transformer.trainable_weights)\n",
        "    self.optimizer.apply_gradients(zip(partial_derivatives, self.transformer.trainable_weights))\n",
        "\n",
        "    self.loss_metric.update_state(loss)\n",
        "\n",
        "    return {'loss':self.loss_metric.result()}"
      ]
    },
    {
      "cell_type": "code",
      "execution_count": null,
      "metadata": {
        "id": "CK_JH_WrgaSv"
      },
      "outputs": [],
      "source": []
    },
    {
      "cell_type": "code",
      "execution_count": null,
      "metadata": {
        "id": "1SFcAw__gv8B"
      },
      "outputs": [],
      "source": []
    }
  ],
  "metadata": {
    "colab": {
      "provenance": [],
      "toc_visible": true,
      "include_colab_link": true
    },
    "kernelspec": {
      "display_name": "Python 3",
      "name": "python3"
    },
    "language_info": {
      "name": "python"
    }
  },
  "nbformat": 4,
  "nbformat_minor": 0
}